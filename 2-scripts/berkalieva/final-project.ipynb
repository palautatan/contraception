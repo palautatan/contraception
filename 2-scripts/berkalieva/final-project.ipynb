{
 "cells": [
  {
   "cell_type": "markdown",
   "metadata": {},
   "source": [
    "# DATA 200 Final Project: Contraception\n",
    "\n",
    "*Team Members: Isabel Serrano, Edie Espejo, and Asem Berkalieva*\n",
    "\n",
    "This notebook contains all of the code for conducting our final project. It is organized into the following sections:\n",
    "\n",
    "1. Exploratory Data Analysis (EDA)\n",
    "2. Feature Engineering and Data Cleaning\n",
    "3. Modeling (Logistic Regression and Random Forests)\n",
    "    - 3a. Contraception use by no use, short term, long term \n",
    "    - 3b. Contraception use by yes vs. no  \n",
    "    - 3c. Contraception use by short term vs. long term (for those on contraception)\n",
    "4. Assessing Precision and Recall"
   ]
  },
  {
   "cell_type": "code",
   "execution_count": 1,
   "metadata": {},
   "outputs": [],
   "source": [
    "# import libraries\n",
    "import pandas as pd\n",
    "import numpy as np\n",
    "\n",
    "import seaborn as sns\n",
    "import matplotlib.pyplot as plt\n",
    "sns.set(style=\"white\", context=\"talk\")\n",
    "\n",
    "from sklearn.model_selection import train_test_split\n",
    "from sklearn.preprocessing import StandardScaler\n",
    "import re"
   ]
  },
  {
   "cell_type": "code",
   "execution_count": 2,
   "metadata": {},
   "outputs": [],
   "source": [
    "# read in raw dataset\n",
    "contra = pd.read_csv('../../1-data/contraceptive_for_students.csv')\n",
    "this_dic = {1:0, 3:1, 2:2}\n",
    "contra['contraceptive'] = contra['contraceptive'].map(this_dic)"
   ]
  },
  {
   "cell_type": "code",
   "execution_count": 3,
   "metadata": {},
   "outputs": [
    {
     "data": {
      "text/html": [
       "<div>\n",
       "<style scoped>\n",
       "    .dataframe tbody tr th:only-of-type {\n",
       "        vertical-align: middle;\n",
       "    }\n",
       "\n",
       "    .dataframe tbody tr th {\n",
       "        vertical-align: top;\n",
       "    }\n",
       "\n",
       "    .dataframe thead th {\n",
       "        text-align: right;\n",
       "    }\n",
       "</style>\n",
       "<table border=\"1\" class=\"dataframe\">\n",
       "  <thead>\n",
       "    <tr style=\"text-align: right;\">\n",
       "      <th></th>\n",
       "      <th>wife_age</th>\n",
       "      <th>wife_education</th>\n",
       "      <th>husband_education</th>\n",
       "      <th>num_child</th>\n",
       "      <th>wife_religion</th>\n",
       "      <th>wife_work</th>\n",
       "      <th>husband_occupation</th>\n",
       "      <th>standard_living</th>\n",
       "      <th>media_exposure</th>\n",
       "      <th>contraceptive</th>\n",
       "    </tr>\n",
       "  </thead>\n",
       "  <tbody>\n",
       "    <tr>\n",
       "      <th>0</th>\n",
       "      <td>24</td>\n",
       "      <td>2</td>\n",
       "      <td>3</td>\n",
       "      <td>3</td>\n",
       "      <td>1</td>\n",
       "      <td>1</td>\n",
       "      <td>2</td>\n",
       "      <td>3</td>\n",
       "      <td>0</td>\n",
       "      <td>0</td>\n",
       "    </tr>\n",
       "    <tr>\n",
       "      <th>1</th>\n",
       "      <td>45</td>\n",
       "      <td>1</td>\n",
       "      <td>3</td>\n",
       "      <td>10</td>\n",
       "      <td>1</td>\n",
       "      <td>1</td>\n",
       "      <td>3</td>\n",
       "      <td>4</td>\n",
       "      <td>0</td>\n",
       "      <td>0</td>\n",
       "    </tr>\n",
       "    <tr>\n",
       "      <th>2</th>\n",
       "      <td>43</td>\n",
       "      <td>2</td>\n",
       "      <td>3</td>\n",
       "      <td>7</td>\n",
       "      <td>1</td>\n",
       "      <td>1</td>\n",
       "      <td>3</td>\n",
       "      <td>4</td>\n",
       "      <td>0</td>\n",
       "      <td>0</td>\n",
       "    </tr>\n",
       "    <tr>\n",
       "      <th>3</th>\n",
       "      <td>42</td>\n",
       "      <td>3</td>\n",
       "      <td>2</td>\n",
       "      <td>9</td>\n",
       "      <td>1</td>\n",
       "      <td>1</td>\n",
       "      <td>3</td>\n",
       "      <td>3</td>\n",
       "      <td>0</td>\n",
       "      <td>0</td>\n",
       "    </tr>\n",
       "    <tr>\n",
       "      <th>4</th>\n",
       "      <td>36</td>\n",
       "      <td>3</td>\n",
       "      <td>3</td>\n",
       "      <td>8</td>\n",
       "      <td>1</td>\n",
       "      <td>1</td>\n",
       "      <td>3</td>\n",
       "      <td>2</td>\n",
       "      <td>0</td>\n",
       "      <td>0</td>\n",
       "    </tr>\n",
       "  </tbody>\n",
       "</table>\n",
       "</div>"
      ],
      "text/plain": [
       "   wife_age  wife_education  husband_education  num_child  wife_religion  \\\n",
       "0        24               2                  3          3              1   \n",
       "1        45               1                  3         10              1   \n",
       "2        43               2                  3          7              1   \n",
       "3        42               3                  2          9              1   \n",
       "4        36               3                  3          8              1   \n",
       "\n",
       "   wife_work  husband_occupation  standard_living  media_exposure  \\\n",
       "0          1                   2                3               0   \n",
       "1          1                   3                4               0   \n",
       "2          1                   3                4               0   \n",
       "3          1                   3                3               0   \n",
       "4          1                   3                2               0   \n",
       "\n",
       "   contraceptive  \n",
       "0              0  \n",
       "1              0  \n",
       "2              0  \n",
       "3              0  \n",
       "4              0  "
      ]
     },
     "execution_count": 3,
     "metadata": {},
     "output_type": "execute_result"
    }
   ],
   "source": [
    "# explore\n",
    "contra.head(5)"
   ]
  },
  {
   "cell_type": "code",
   "execution_count": 4,
   "metadata": {},
   "outputs": [],
   "source": [
    "# split into train and test\n",
    "contra_train, contra_test = train_test_split(contra, test_size=0.25, random_state=100)"
   ]
  },
  {
   "cell_type": "markdown",
   "metadata": {},
   "source": [
    "## 1. Exploratory Data Analysis"
   ]
  },
  {
   "cell_type": "markdown",
   "metadata": {},
   "source": [
    "## 2. Feature Engineering and Data Cleaning\n",
    "\n",
    "We have written a wrapper function that preprocesses the raw data and outputs a train and test dataset that can be fed into the modeling code. "
   ]
  },
  {
   "cell_type": "markdown",
   "metadata": {},
   "source": [
    "We will use the following function without our preprocessing function:"
   ]
  },
  {
   "cell_type": "code",
   "execution_count": 5,
   "metadata": {},
   "outputs": [],
   "source": [
    "# the following function cleans the lower bound and upper bound of the intervals into their own columns.\n",
    "def cleanIntervals(age_intervals):\n",
    "    '''\n",
    "    Input:\n",
    "        age_intervals: Array of intervals\n",
    "    Output:\n",
    "        lows: An array of lower bounds\n",
    "        highs: An array of upper bounds\n",
    "    '''\n",
    "    \n",
    "    lows  = []\n",
    "    highs = []\n",
    "    \n",
    "    for ix in range(len(age_intervals)):\n",
    "        lo_hi = [re.sub('\\(|\\]', '', k) for k in age_intervals[ix].split(',')]\n",
    "        lows.append(lo_hi[0])\n",
    "        highs.append(lo_hi[1])\n",
    "        \n",
    "    return(np.array(lows),\n",
    "           np.array(highs))"
   ]
  },
  {
   "cell_type": "markdown",
   "metadata": {},
   "source": [
    "The following is the complete processing function that takes in the raw contraception dataset and output the train and test data:"
   ]
  },
  {
   "cell_type": "code",
   "execution_count": 6,
   "metadata": {},
   "outputs": [],
   "source": [
    "def preprocess(data):\n",
    "    \n",
    "    # 1. define Kids Per Married Year:\n",
    "    \n",
    "    ### 1a. drop those under 20\n",
    "    data = data[data.wife_age > 20]\n",
    "    data = data.reset_index(drop=True)\n",
    "    \n",
    "    ### set age intervals to define median age married\n",
    "    age_intervals = pd.IntervalIndex.from_tuples([(20, 24), (24, 29), (29, 34), (34,39), (39,44), (44, 49)])\n",
    "    age_interval_df = pd.DataFrame(age_intervals)\n",
    "    age_interval_df['median_marriage_age'] = [19.6, 18.1, 17.6, 16.8, 16.4, 16.5]\n",
    "    age_interval_df = age_interval_df.rename({0:'age_bin'}, axis=1)\n",
    "    age_interval_df['age_bin'] = age_interval_df['age_bin'].astype(str)\n",
    "    age_interval_df['age_bin_low'], age_interval_df['age_bin_high'] = cleanIntervals(age_interval_df.age_bin)\n",
    "    data['age_bin'] = pd.cut(data.wife_age, bins=age_intervals)\n",
    "\n",
    "    ### fill the NA's\n",
    "    data['age_bin'] = data['age_bin'].cat.add_categories('None')\n",
    "    data['age_bin'] = data['age_bin'].fillna('None')\n",
    "    data['age_bin'] = data['age_bin'].astype(str)\n",
    "    \n",
    "    data['age_bin_low'], data['age_bin_high'] = cleanIntervals(data.age_bin)\n",
    "    data = data.merge(age_interval_df)\n",
    "    \n",
    "    ### create est_years_married: wife's age minus median marriage age for age group\n",
    "    data['est_years_married'] = data['wife_age'] - data['median_marriage_age']\n",
    "    \n",
    "    ### create kids_per_year: amount of kids divided by number of est years married\n",
    "    data['kids_per_year'] = data['num_child'] / data['est_years_married']\n",
    "    \n",
    "    ### drop unnecessary age_bin feature\n",
    "    data.drop(['age_bin'], axis=1, inplace=True)\n",
    "    \n",
    "    # 2. Education gap\n",
    "    data['education_gap'] = data['husband_education'] - data['wife_education']\n",
    "    gap_intervals = [-3, 0, 1, 4]\n",
    "    data['education_gap_categorical'] = pd.cut(data.education_gap, bins=gap_intervals, labels=[-1, 0, 1], right=False)\n",
    "    \n",
    "    # 3. Contraceptive Use\n",
    "    this_dic = {0:0, 1:1, 2:1}\n",
    "    data['contraceptive_use'] = data['contraceptive'].map(this_dic)\n",
    "    \n",
    "    # 4. Adjusted Standard of Living\n",
    "    \n",
    "    ### combine middle-low and middle-high into single category\n",
    "    this_dic = {1: 1, 2:2, 3:2, 4:3}\n",
    "    data['standard_living'] = data['standard_living'].map(this_dic)\n",
    "    \n",
    "    # 5. Adjusted Education Level\n",
    "    \n",
    "    ### separate wives' education level into 0 for not having completed primary school and 1 for completing primary school\n",
    "    this_dic = {1:0, 2:0, 3:1, 4:1}\n",
    "    data['wife_education'] = data['wife_education'].map(this_dic)\n",
    "    \n",
    "    # 6. One-hot Encoding Categorical Variables\n",
    "    data = pd.get_dummies(data,\n",
    "                        columns=['wife_education', 'husband_education', 'wife_religion',\n",
    "                                 'wife_work', 'husband_occupation', 'standard_living',\n",
    "                                 'media_exposure', 'education_gap_categorical'],\n",
    "                        drop_first=True)\n",
    "    \n",
    "    # 7. Scaling Continuous Variables\n",
    "    continuous_vars = ['wife_age', 'num_child', 'kids_per_year', 'est_years_married']\n",
    "    standardized_vars = pd.DataFrame(StandardScaler().fit_transform(data[continuous_vars]), columns=continuous_vars)\n",
    "    \n",
    "    ### drop original, non-scaled variables\n",
    "    data.drop(continuous_vars, axis=1, inplace=True)\n",
    "    data = data.join(standardized_vars)\n",
    "    \n",
    "    # 8. return cleaned dataset\n",
    "    return data"
   ]
  },
  {
   "cell_type": "code",
   "execution_count": 7,
   "metadata": {},
   "outputs": [],
   "source": [
    "# apply function to the two datasets\n",
    "contra_train = preprocess(contra_train)\n",
    "contra_test = preprocess(contra_test)"
   ]
  },
  {
   "cell_type": "code",
   "execution_count": 8,
   "metadata": {},
   "outputs": [
    {
     "data": {
      "text/plain": [
       "[(1473, 10), (1056, 24), (353, 24)]"
      ]
     },
     "execution_count": 8,
     "metadata": {},
     "output_type": "execute_result"
    }
   ],
   "source": [
    "# examine outputs\n",
    "[contra.shape, contra_train.shape, contra_test.shape]"
   ]
  },
  {
   "cell_type": "markdown",
   "metadata": {},
   "source": [
    "## 3. Modeling\n",
    "\n",
    "We will predict and compare three outcomes of interest:\n",
    "\n",
    "- Contraceptive method of (1) no use, (2) short term, (3) long term\n",
    "- Contraceptive method of (1) no use vs. (2) use?\n",
    "- Contraceptive method of (1) short-term vs. (2) long-term for those on contraception\n",
    "\n",
    "Which of the three above has a better prediction accuracy? What are the pros and cons of each? \n",
    "\n",
    "Additionally, by running logistic regression and Random Forests on each of the above, we hope to assess which model performs better and why."
   ]
  },
  {
   "cell_type": "markdown",
   "metadata": {},
   "source": [
    "### 3a. Predicting Contraceptive: No Use, Short Term, Long Term\n",
    "#### i. Feature Selection and Data Preparation\n",
    "We will start by running our model with all existing features in the dataset to evaluate initial performance."
   ]
  },
  {
   "cell_type": "code",
   "execution_count": 51,
   "metadata": {},
   "outputs": [],
   "source": [
    "# training data\n",
    "# remove the first 2 because they are the response\n",
    "# remove age_bin because they were used for another variable\n",
    "# remove education_gap because it was coded into a categorical variable\n",
    "X_train = contra_train.drop(['contraceptive', 'contraceptive_use', 'age_bin_low', 'age_bin_high', \\\n",
    "                             'education_gap', 'wife_age', 'num_child'], axis = 1)\n",
    "Y_train = contra_train['contraceptive']\n",
    "\n",
    "# test data\n",
    "X_test = contra_test.drop(['contraceptive', 'contraceptive_use', 'age_bin_low', 'age_bin_high', \\\n",
    "                           'education_gap', 'wife_age', 'num_child'], axis = 1)\n",
    "Y_test = contra_test['contraceptive']"
   ]
  },
  {
   "cell_type": "markdown",
   "metadata": {},
   "source": [
    "#### ii. Multinomial Logistic Regression"
   ]
  },
  {
   "cell_type": "code",
   "execution_count": 10,
   "metadata": {},
   "outputs": [
    {
     "data": {
      "text/plain": [
       "[0.5606060606060606, 0.46175637393767704]"
      ]
     },
     "execution_count": 10,
     "metadata": {},
     "output_type": "execute_result"
    }
   ],
   "source": [
    "from sklearn.linear_model import LogisticRegression\n",
    "\n",
    "# fit multinomial model\n",
    "multinomial_logit = LogisticRegression(multi_class='multinomial', solver='newton-cg')\n",
    "multinomial_logit.fit(X = X_train, y = Y_train)\n",
    "\n",
    "# obtain accuracies (train and CV)\n",
    "train_accuracy_lr = multinomial_logit.score(X = X_train, y = Y_train)\n",
    "test_accuracy_lr  = multinomial_logit.score(X = X_test, y = Y_test)\n",
    "\n",
    "# print accuracy\n",
    "[train_accuracy_lr, test_accuracy_lr]"
   ]
  },
  {
   "cell_type": "code",
   "execution_count": 11,
   "metadata": {},
   "outputs": [
    {
     "data": {
      "text/plain": [
       "[0.5643939393939394, 0.45609065155807366]"
      ]
     },
     "execution_count": 11,
     "metadata": {},
     "output_type": "execute_result"
    }
   ],
   "source": [
    "from sklearn.linear_model import LogisticRegressionCV\n",
    "\n",
    "# fit multinomial CV model\n",
    "multinomial_logit_cv = LogisticRegressionCV(cv=10, multi_class='multinomial', solver='newton-cg')\n",
    "multinomial_logit_cv.fit(X = X_train, y = Y_train)\n",
    "\n",
    "# obtain CV accuracies\n",
    "train_accuracy_cv = multinomial_logit_cv.score(X = X_train, y = Y_train)\n",
    "test_accuracy_cv  = multinomial_logit_cv.score(X = X_test, y = Y_test)\n",
    "\n",
    "# print\n",
    "[train_accuracy_cv, test_accuracy_cv]"
   ]
  },
  {
   "cell_type": "markdown",
   "metadata": {},
   "source": [
    "#### iv. Visualize Feature Selection vs. CV Error\n",
    "To select features, we began with including all features in the model and removing, one by one, those that decreased training error. We have written a function that evaluates this for the first round (first feature removal) and subsequently, we plot this to more easily visualize the effect of feature removal."
   ]
  },
  {
   "cell_type": "code",
   "execution_count": 12,
   "metadata": {},
   "outputs": [],
   "source": [
    "# modified df\n",
    "contra_df = contra_train.drop(['contraceptive', 'contraceptive_use', 'age_bin_low', \\\n",
    "                               'age_bin_high', 'education_gap'], axis = 1)\n",
    "\n",
    "# features we will remove one by one\n",
    "quantitative_features = ['median_marriage_age', 'wife_education_1', 'wife_religion_1', \\\n",
    "                         'wife_work_1', 'media_exposure_1', 'wife_age', 'num_child', \\\n",
    "                         'kids_per_year', 'est_years_married']\n",
    "\n",
    "# to track accuracy for features\n",
    "accuracy_train = {}\n",
    "accuracy_cv_train = {}\n",
    "\n",
    "# loop through feature removal\n",
    "for i in range(len(quantitative_features)):\n",
    "\n",
    "    # The name we are giving to the ith model\n",
    "    name = quantitative_features[i]\n",
    "\n",
    "    # subset dataframe\n",
    "    X_train = contra_df.drop(quantitative_features[i], axis = 1)\n",
    "    Y_train = contra_train['contraceptive']\n",
    "\n",
    "    # initialize models\n",
    "    model = LogisticRegression(multi_class='multinomial', solver='newton-cg')\n",
    "    model_cv = LogisticRegressionCV(cv=10, multi_class='multinomial', solver='newton-cg')\n",
    "\n",
    "    # fit models\n",
    "    model.fit(X = X_train, y = Y_train)\n",
    "    model_cv.fit(X = X_train, y = Y_train)\n",
    "    train_model = model.score(X = X_train, y = Y_train)\n",
    "    train_model_cv = model_cv.score(X = X_train, y = Y_train)\n",
    "\n",
    "    # Saving the ith model\n",
    "    accuracy_train[name] = train_model\n",
    "    accuracy_cv_train[name] = train_model_cv"
   ]
  },
  {
   "cell_type": "code",
   "execution_count": 13,
   "metadata": {},
   "outputs": [],
   "source": [
    "def visualize_errors(accuracy_train, accuracy_cv):\n",
    "    \n",
    "    # prepare train df for plotting\n",
    "    accuracy_train_df = pd.DataFrame(accuracy_train.items(), columns = ['feature','accuracy'])\n",
    "    accuracy_train_df['type'] = 'train'\n",
    "\n",
    "    # prepare cv df for plotting\n",
    "    accuracy_cv_df = pd.DataFrame(accuracy_cv.items(), columns = ['feature','accuracy'])\n",
    "    accuracy_cv_df['type'] = 'cv'\n",
    "\n",
    "    # combine datasets\n",
    "    accuracy_df = pd.concat([accuracy_train_df, accuracy_cv_df])\n",
    "\n",
    "    # generate plot\n",
    "    plt.figure(figsize=(10,8))\n",
    "    ax = sns.barplot(x = 'feature', y = 'accuracy', hue = 'type', data = accuracy_df,\n",
    "                    palette=['#DF6589', '#FFC3AF'])\n",
    "    ax.set(xlabel='Feature',\n",
    "           ylabel='Accuracy');\n",
    "    ax.set_xticklabels(ax.get_xticklabels(), rotation = 90)\n",
    "    \n",
    "    # return plot\n",
    "    return ax"
   ]
  },
  {
   "cell_type": "code",
   "execution_count": 14,
   "metadata": {},
   "outputs": [
    {
     "data": {
      "text/plain": [
       "[Text(0.5, 1.0, 'Multinomial Logistic Regression Model Accuracy Removing Each Feature')]"
      ]
     },
     "execution_count": 14,
     "metadata": {},
     "output_type": "execute_result"
    },
    {
     "data": {
      "image/png": "[encoded data removed]",
      "text/plain": [
       "<Figure size 720x576 with 1 Axes>"
      ]
     },
     "metadata": {
      "needs_background": "light"
     },
     "output_type": "display_data"
    }
   ],
   "source": [
    "# visualize\n",
    "ax = visualize_errors(accuracy_train, accuracy_cv_train)\n",
    "plt.ylim(0.5, 0.57)\n",
    "ax.set(title = 'Multinomial Logistic Regression Model Accuracy Removing Each Feature')"
   ]
  },
  {
   "cell_type": "markdown",
   "metadata": {},
   "source": [
    "#### iii. Random Forests\n",
    "\n",
    "To fit a Random Forests model to the data, we will tune the number of trees using cross-validation, while allowing the Random Forests algorithm to tune the remaining features through its use of bagging. We visualize the training and cross-validated accuracies for a range of number trees to (1) confirm overfitting occurs when fitting on a single training set and (2) select the number of trees we will use."
   ]
  },
  {
   "cell_type": "code",
   "execution_count": 15,
   "metadata": {},
   "outputs": [],
   "source": [
    "from sklearn import ensemble\n",
    "from sklearn.model_selection import cross_val_score\n",
    "\n",
    "# to track accuracy for features\n",
    "accuracy_train_rf = {}\n",
    "accuracy_cv_rf = {}\n",
    "n_trees = range(5, 30, 5)\n",
    "\n",
    "# cross validate for n trees\n",
    "for i in n_trees:\n",
    "    \n",
    "    # fit model\n",
    "    random_forest = ensemble.RandomForestClassifier(n_estimators = i)\n",
    "    random_forest.fit(X = X_train, y = Y_train)\n",
    "    \n",
    "    # obtain accuracy\n",
    "    accuracy_train_rf[i] = random_forest.score(X = X_train, y = Y_train)\n",
    "    accuracy_cv_rf[i] = cross_val_score(random_forest, X_train, Y_train, cv = 5).mean()"
   ]
  },
  {
   "cell_type": "code",
   "execution_count": 16,
   "metadata": {},
   "outputs": [
    {
     "data": {
      "image/png": "[encoded data removed]",
      "text/plain": [
       "<Figure size 720x576 with 1 Axes>"
      ]
     },
     "metadata": {
      "needs_background": "light"
     },
     "output_type": "display_data"
    }
   ],
   "source": [
    "# prepare train df for plotting\n",
    "accuracy_train_df = pd.DataFrame(accuracy_train_rf.items(), columns = ['n_tree','accuracy'])\n",
    "accuracy_train_df['type'] = 'train'\n",
    "accuracy_train_df\n",
    "\n",
    "# prepare cv df for plotting\n",
    "accuracy_cv_df = pd.DataFrame(accuracy_cv_rf.items(), columns = ['n_tree','accuracy'])\n",
    "accuracy_cv_df['type'] = 'cv'\n",
    "\n",
    "# combine datasets\n",
    "accuracy_df = pd.concat([accuracy_train_df, accuracy_cv_df])\n",
    "\n",
    "# generate plot\n",
    "plt.figure(figsize=(10,8))\n",
    "ax = sns.barplot(x = 'n_tree', y = 'accuracy', hue = 'type', data = accuracy_df,\n",
    "                palette=['#DF6589', '#FFC3AF'])\n",
    "ax.set(xlabel='Number Trees',\n",
    "       ylabel='Accuracy',\n",
    "       title = 'Random Forests Training Accuracy Varying Number Trees');"
   ]
  },
  {
   "cell_type": "code",
   "execution_count": 21,
   "metadata": {},
   "outputs": [
    {
     "data": {
      "text/plain": [
       "[0.9526515151515151, 0.5127478753541076]"
      ]
     },
     "execution_count": 21,
     "metadata": {},
     "output_type": "execute_result"
    }
   ],
   "source": [
    "# fit final model with n tree selected\n",
    "random_forest = ensemble.RandomForestClassifier(n_estimators=25)\n",
    "random_forest.fit(X = X_train, y = Y_train)\n",
    "\n",
    "# obtain accuracies\n",
    "train_accuracy_rf = random_forest.score(X = X_train, y = Y_train)\n",
    "test_accuracy_rf = random_forest.score(X = X_test, y = Y_test)\n",
    "\n",
    "# print\n",
    "[train_accuracy_rf, test_accuracy_rf]"
   ]
  },
  {
   "cell_type": "markdown",
   "metadata": {},
   "source": [
    "### 3b. Predicting Binary Contraceptive: No vs. Yes\n",
    "#### i. Feature Selection and Data Preparation"
   ]
  },
  {
   "cell_type": "code",
   "execution_count": 22,
   "metadata": {},
   "outputs": [],
   "source": [
    "# training data\n",
    "X_train_binary = contra_train.drop(['contraceptive', 'contraceptive_use', 'age_bin_low', 'age_bin_high', \\\n",
    "                                    'education_gap', 'wife_age'], axis = 1)\n",
    "Y_train_binary = contra_train['contraceptive_use']\n",
    "\n",
    "# test data\n",
    "X_test_binary = contra_test.drop(['contraceptive', 'contraceptive_use', 'age_bin_low', 'age_bin_high', \\\n",
    "                                  'education_gap', 'wife_age'], axis = 1)\n",
    "Y_test_binary = contra_test['contraceptive_use']"
   ]
  },
  {
   "cell_type": "markdown",
   "metadata": {},
   "source": [
    "#### ii. Binary Logistic Regression"
   ]
  },
  {
   "cell_type": "code",
   "execution_count": 23,
   "metadata": {},
   "outputs": [
    {
     "data": {
      "text/plain": [
       "[0.7111742424242424, 0.6770538243626062]"
      ]
     },
     "execution_count": 23,
     "metadata": {},
     "output_type": "execute_result"
    }
   ],
   "source": [
    "# fit binomial logistic regression model\n",
    "binary_logit = LogisticRegression(solver = 'newton-cg')\n",
    "binary_logit.fit(X = X_train_binary, y = Y_train_binary)\n",
    "\n",
    "# obtain accuracies\n",
    "train_accuracy_lr_binary = binary_logit.score(X = X_train_binary, y = Y_train_binary)\n",
    "test_accuracy_lr_binary  = binary_logit.score(X = X_test_binary, y = Y_test_binary)\n",
    "\n",
    "# print\n",
    "[train_accuracy_lr_binary, test_accuracy_lr_binary]"
   ]
  },
  {
   "cell_type": "code",
   "execution_count": 24,
   "metadata": {},
   "outputs": [
    {
     "data": {
      "text/plain": [
       "[0.7007575757575758, 0.6685552407932012]"
      ]
     },
     "execution_count": 24,
     "metadata": {},
     "output_type": "execute_result"
    }
   ],
   "source": [
    "# fit CV binomial model\n",
    "binary_logit_cv = LogisticRegressionCV(cv = 10, solver = 'newton-cg')\n",
    "binary_logit_cv.fit(X = X_train_binary, y = Y_train_binary)\n",
    "\n",
    "# obtain accuracies\n",
    "train_accuracy_cv_binary = binary_logit_cv.score(X = X_train_binary, y = Y_train_binary)\n",
    "test_accuracy_cv_binary  = binary_logit_cv.score(X = X_test_binary, y = Y_test_binary)\n",
    "\n",
    "# print\n",
    "[train_accuracy_cv_binary, test_accuracy_cv_binary]"
   ]
  },
  {
   "cell_type": "markdown",
   "metadata": {},
   "source": [
    "#### iii. Visualize Feature Selection vs. CV Error"
   ]
  },
  {
   "cell_type": "code",
   "execution_count": 27,
   "metadata": {},
   "outputs": [],
   "source": [
    "# modified df\n",
    "contra_df = contra_train.drop(['contraceptive', 'contraceptive_use', 'age_bin_low', \\\n",
    "                               'age_bin_high', 'education_gap'], axis = 1)\n",
    "\n",
    "# features we will drop one by one\n",
    "quantitative_features = ['median_marriage_age', 'wife_education_1', 'wife_religion_1', \\\n",
    "                         'wife_work_1', 'media_exposure_1', 'wife_age', 'num_child', \\\n",
    "                         'kids_per_year', 'est_years_married']\n",
    "\n",
    "# to track accuracy for features\n",
    "accuracy_train = {}\n",
    "accuracy_cv_train = {}\n",
    "\n",
    "# loop through feature removal\n",
    "for i in range(len(quantitative_features)):\n",
    "\n",
    "    # The name we are giving to the ith model\n",
    "    name = quantitative_features[i]\n",
    "\n",
    "    # subset dataframe\n",
    "    X_train = contra_df.drop(quantitative_features[i], axis = 1)\n",
    "    Y_train = contra_train['contraceptive_use']\n",
    "\n",
    "    # initialize models\n",
    "    model = LogisticRegression(solver = 'newton-cg')\n",
    "    model_cv = LogisticRegressionCV(cv=10, solver='newton-cg')\n",
    "\n",
    "    # fit models\n",
    "    model.fit(X = X_train, y = Y_train)\n",
    "    model_cv.fit(X = X_train, y = Y_train)\n",
    "    train_model = model.score(X = X_train, y = Y_train)\n",
    "    train_model_cv = model_cv.score(X = X_train, y = Y_train)\n",
    "\n",
    "    # Saving the ith model\n",
    "    accuracy_train[name] = train_model\n",
    "    accuracy_cv_train[name] = train_model_cv"
   ]
  },
  {
   "cell_type": "code",
   "execution_count": 33,
   "metadata": {},
   "outputs": [
    {
     "data": {
      "text/plain": [
       "[Text(0.5, 1.0, 'Binary Logistic Regression Model Accuracy Removing Each Feature: Use vs. No Use')]"
      ]
     },
     "execution_count": 33,
     "metadata": {},
     "output_type": "execute_result"
    },
    {
     "data": {
      "image/png": "[encoded data removed]",
      "text/plain": [
       "<Figure size 720x576 with 1 Axes>"
      ]
     },
     "metadata": {
      "needs_background": "light"
     },
     "output_type": "display_data"
    }
   ],
   "source": [
    "# visualize\n",
    "ax = visualize_errors(accuracy_train, accuracy_cv_train)\n",
    "plt.ylim(0.5, 0.77)\n",
    "ax.set(title = 'Binary Logistic Regression Model Accuracy Removing Each Feature: Use vs. No Use')"
   ]
  },
  {
   "cell_type": "markdown",
   "metadata": {},
   "source": [
    "#### iii. Random Forests"
   ]
  },
  {
   "cell_type": "code",
   "execution_count": 36,
   "metadata": {},
   "outputs": [
    {
     "data": {
      "text/plain": [
       "{5: 0.6544818878995755,\n",
       " 10: 0.6591311642246096,\n",
       " 15: 0.6639021814573992,\n",
       " 20: 0.6572308308103711,\n",
       " 25: 0.6647912860932623}"
      ]
     },
     "execution_count": 36,
     "metadata": {},
     "output_type": "execute_result"
    }
   ],
   "source": [
    "# to track accuracy for features\n",
    "accuracy_train_rf = {}\n",
    "accuracy_cv_rf = {}\n",
    "n_trees = range(5, 30, 5)\n",
    "\n",
    "# cross validate for n trees\n",
    "for i in n_trees:\n",
    "    \n",
    "    # fit model\n",
    "    random_forest = ensemble.RandomForestClassifier(n_estimators = i)\n",
    "    random_forest.fit(X = X_train_binary, y = Y_train_binary)\n",
    "    \n",
    "    # obtain accuracy\n",
    "    accuracy_train_rf[i] = random_forest.score(X = X_train_binary, y = Y_train_binary)\n",
    "    accuracy_cv_rf[i] = cross_val_score(random_forest, X_train_binary, Y_train_binary, cv = 5).mean()"
   ]
  },
  {
   "cell_type": "code",
   "execution_count": 35,
   "metadata": {},
   "outputs": [
    {
     "data": {
      "image/png": "[encoded data removed]",
      "text/plain": [
       "<Figure size 720x576 with 1 Axes>"
      ]
     },
     "metadata": {
      "needs_background": "light"
     },
     "output_type": "display_data"
    }
   ],
   "source": [
    "# prepare train df for plotting\n",
    "accuracy_train_df = pd.DataFrame(accuracy_train_rf.items(), columns = ['n_tree','accuracy'])\n",
    "accuracy_train_df['type'] = 'train'\n",
    "accuracy_train_df\n",
    "\n",
    "# prepare cv df for plotting\n",
    "accuracy_cv_df = pd.DataFrame(accuracy_cv_rf.items(), columns = ['n_tree','accuracy'])\n",
    "accuracy_cv_df['type'] = 'cv'\n",
    "\n",
    "# combine datasets\n",
    "accuracy_df = pd.concat([accuracy_train_df, accuracy_cv_df])\n",
    "\n",
    "# generate plot\n",
    "plt.figure(figsize=(10,8))\n",
    "ax = sns.barplot(x = 'n_tree', y = 'accuracy', hue = 'type', data = accuracy_df,\n",
    "                palette=['#DF6589', '#FFC3AF'])\n",
    "ax.set(xlabel='Number Trees',\n",
    "       ylabel='Accuracy',\n",
    "       title = 'Binary (yes vs. no) Random Forests Training Accuracy Varying Number Trees');"
   ]
  },
  {
   "cell_type": "code",
   "execution_count": 37,
   "metadata": {},
   "outputs": [
    {
     "data": {
      "text/plain": [
       "[0.9763257575757576, 0.6997167138810199]"
      ]
     },
     "execution_count": 37,
     "metadata": {},
     "output_type": "execute_result"
    }
   ],
   "source": [
    "# fit model\n",
    "binary_random_forest = ensemble.RandomForestClassifier(n_estimators = 25)\n",
    "binary_random_forest.fit(X = X_train_binary, y = Y_train_binary)\n",
    "\n",
    "# obtain accuracies\n",
    "train_accuracy_rf_binary = binary_random_forest.score(X = X_train_binary, y = Y_train_binary)\n",
    "test_accuracy_rf_binary  = binary_random_forest.score(X = X_test_binary, y = Y_test_binary)\n",
    "\n",
    "# print\n",
    "[train_accuracy_rf_binary, test_accuracy_rf_binary]"
   ]
  },
  {
   "cell_type": "markdown",
   "metadata": {},
   "source": [
    "### 3c. Predicting Contraceptive of Those Who Use: Short-term vs. Long-term"
   ]
  },
  {
   "cell_type": "markdown",
   "metadata": {},
   "source": [
    "#### i. Feature Selection and Data Preparation"
   ]
  },
  {
   "cell_type": "code",
   "execution_count": 38,
   "metadata": {},
   "outputs": [],
   "source": [
    "# data preprocessing\n",
    "contra_train_use = contra_train[contra_train['contraceptive_use'] == 1]\n",
    "contra_test_use = contra_test[contra_test['contraceptive_use'] == 1]\n",
    "\n",
    "# training data\n",
    "X_train_use = contra_train_use.drop(['contraceptive', 'contraceptive_use', 'age_bin_low', 'age_bin_high', \\\n",
    "                                     'education_gap', 'wife_education_1', 'wife_work_1', 'wife_age'], axis = 1)\n",
    "Y_train_use = contra_train_use['contraceptive']\n",
    "\n",
    "# test data\n",
    "X_test_use = contra_test_use.drop(['contraceptive', 'contraceptive_use', 'age_bin_low', 'age_bin_high', \\\n",
    "                                   'education_gap', 'wife_education_1', 'wife_work_1', 'wife_age'], axis = 1)\n",
    "Y_test_use = contra_test_use['contraceptive']"
   ]
  },
  {
   "cell_type": "markdown",
   "metadata": {},
   "source": [
    "####  ii. Multinomial Logistic Regression"
   ]
  },
  {
   "cell_type": "code",
   "execution_count": 39,
   "metadata": {},
   "outputs": [
    {
     "data": {
      "text/plain": [
       "[0.6830065359477124, 0.5911330049261084]"
      ]
     },
     "execution_count": 39,
     "metadata": {},
     "output_type": "execute_result"
    }
   ],
   "source": [
    "# fit model\n",
    "binary_use_logit = LogisticRegression(solver = 'newton-cg')\n",
    "binary_use_logit.fit(X = X_train_use, y = Y_train_use)\n",
    "\n",
    "# obtain accuracies\n",
    "train_accuracy_lr_use = binary_use_logit.score(X = X_train_use, y = Y_train_use)\n",
    "test_accuracy_lr_use  = binary_use_logit.score(X = X_test_use, y = Y_test_use)\n",
    "\n",
    "# print\n",
    "[train_accuracy_lr_use, test_accuracy_lr_use]"
   ]
  },
  {
   "cell_type": "code",
   "execution_count": 40,
   "metadata": {},
   "outputs": [
    {
     "data": {
      "text/plain": [
       "[0.6552287581699346, 0.6551724137931034]"
      ]
     },
     "execution_count": 40,
     "metadata": {},
     "output_type": "execute_result"
    }
   ],
   "source": [
    "# fit model\n",
    "binary_use_logit_cv = LogisticRegressionCV(cv = 10, solver = 'newton-cg')\n",
    "binary_use_logit_cv.fit(X = X_train_use, y = Y_train_use)\n",
    "\n",
    "# obtain accuracies\n",
    "train_accuracy_cv_use = binary_use_logit_cv.score(X = X_train_use, y = Y_train_use)\n",
    "test_accuracy_cv_use  = binary_use_logit_cv.score(X = X_test_use, y = Y_test_use)\n",
    "\n",
    "# print\n",
    "[train_accuracy_cv_use, test_accuracy_cv_use]"
   ]
  },
  {
   "cell_type": "markdown",
   "metadata": {},
   "source": [
    "#### iii. Visualize Feature Selection vs. CV Error"
   ]
  },
  {
   "cell_type": "code",
   "execution_count": 41,
   "metadata": {},
   "outputs": [],
   "source": [
    "# modified df\n",
    "contra_df = contra_train.drop(['contraceptive', 'contraceptive_use', 'age_bin_low', \\\n",
    "                               'age_bin_high', 'education_gap'], axis = 1)\n",
    "\n",
    "# features we will drop one by one\n",
    "quantitative_features = ['median_marriage_age', 'wife_education_1', 'wife_religion_1', \\\n",
    "                         'wife_work_1', 'media_exposure_1', 'wife_age', 'num_child', \\\n",
    "                         'kids_per_year', 'est_years_married']\n",
    "\n",
    "# to track accuracy for features\n",
    "accuracy_train = {}\n",
    "accuracy_cv_train = {}\n",
    "\n",
    "# loop through feature removal\n",
    "for i in range(len(quantitative_features)):\n",
    "\n",
    "    # The name we are giving to the ith model\n",
    "    name = quantitative_features[i]\n",
    "\n",
    "    # subset dataframe\n",
    "    X_train = contra_df.drop(quantitative_features[i], axis = 1)\n",
    "    Y_train = contra_train['contraceptive_use']\n",
    "\n",
    "    # initialize models\n",
    "    model = LogisticRegression(solver = 'newton-cg')\n",
    "    model_cv = LogisticRegressionCV(cv=10, solver='newton-cg')\n",
    "\n",
    "    # fit models\n",
    "    model.fit(X = X_train, y = Y_train)\n",
    "    model_cv.fit(X = X_train, y = Y_train)\n",
    "    train_model = model.score(X = X_train, y = Y_train)\n",
    "    train_model_cv = model_cv.score(X = X_train, y = Y_train)\n",
    "\n",
    "    # Saving the ith model\n",
    "    accuracy_train[name] = train_model\n",
    "    accuracy_cv_train[name] = train_model_cv"
   ]
  },
  {
   "cell_type": "code",
   "execution_count": 46,
   "metadata": {},
   "outputs": [
    {
     "data": {
      "text/plain": [
       "[Text(0.5, 1.0, 'Binary Logistic Regression Model Accuracy Removing Each Feature: Short-term vs. Long-term')]"
      ]
     },
     "execution_count": 46,
     "metadata": {},
     "output_type": "execute_result"
    },
    {
     "data": {
      "image/png": "[encoded data removed]",
      "text/plain": [
       "<Figure size 720x576 with 1 Axes>"
      ]
     },
     "metadata": {
      "needs_background": "light"
     },
     "output_type": "display_data"
    }
   ],
   "source": [
    "# visualize\n",
    "ax = visualize_errors(accuracy_train, accuracy_cv_train)\n",
    "plt.ylim(0.5, 0.75)\n",
    "ax.set(title = 'Binary Logistic Regression Model Accuracy Removing Each Feature: Short-term vs. Long-term')"
   ]
  },
  {
   "cell_type": "markdown",
   "metadata": {},
   "source": [
    "#### iv. Random Forests"
   ]
  },
  {
   "cell_type": "code",
   "execution_count": 48,
   "metadata": {},
   "outputs": [
    {
     "data": {
      "text/plain": [
       "{5: 0.5767959482873517,\n",
       " 10: 0.5800079968012796,\n",
       " 15: 0.583353325336532,\n",
       " 20: 0.5784486205517794,\n",
       " 25: 0.5604558176729307}"
      ]
     },
     "execution_count": 48,
     "metadata": {},
     "output_type": "execute_result"
    }
   ],
   "source": [
    "# to track accuracy for features\n",
    "accuracy_train_rf = {}\n",
    "accuracy_cv_rf = {}\n",
    "n_trees = range(5, 30, 5)\n",
    "\n",
    "# cross validate for n trees\n",
    "for i in n_trees:\n",
    "    \n",
    "    # fit model\n",
    "    random_forest = ensemble.RandomForestClassifier(n_estimators = i)\n",
    "    random_forest.fit(X = X_train_use, y = Y_train_use)\n",
    "    \n",
    "    # obtain accuracy\n",
    "    accuracy_train_rf[i] = random_forest.score(X = X_train_use, y = Y_train_use)\n",
    "    accuracy_cv_rf[i] = cross_val_score(random_forest, X_train_use, Y_train_use, cv = 5).mean()"
   ]
  },
  {
   "cell_type": "code",
   "execution_count": 49,
   "metadata": {},
   "outputs": [
    {
     "data": {
      "image/png": "[encoded data removed]",
      "text/plain": [
       "<Figure size 720x576 with 1 Axes>"
      ]
     },
     "metadata": {
      "needs_background": "light"
     },
     "output_type": "display_data"
    }
   ],
   "source": [
    "# prepare train df for plotting\n",
    "accuracy_train_df = pd.DataFrame(accuracy_train_rf.items(), columns = ['n_tree','accuracy'])\n",
    "accuracy_train_df['type'] = 'train'\n",
    "accuracy_train_df\n",
    "\n",
    "# prepare cv df for plotting\n",
    "accuracy_cv_df = pd.DataFrame(accuracy_cv_rf.items(), columns = ['n_tree','accuracy'])\n",
    "accuracy_cv_df['type'] = 'cv'\n",
    "\n",
    "# combine datasets\n",
    "accuracy_df = pd.concat([accuracy_train_df, accuracy_cv_df])\n",
    "\n",
    "# generate plot\n",
    "plt.figure(figsize=(10,8))\n",
    "ax = sns.barplot(x = 'n_tree', y = 'accuracy', hue = 'type', data = accuracy_df,\n",
    "                palette=['#DF6589', '#FFC3AF'])\n",
    "ax.set(xlabel='Number Trees',\n",
    "       ylabel='Accuracy',\n",
    "       title = 'Binary (short vs. long) Random Forests Training Accuracy Varying Number Trees');"
   ]
  },
  {
   "cell_type": "code",
   "execution_count": 50,
   "metadata": {},
   "outputs": [
    {
     "data": {
      "text/plain": [
       "[0.9411764705882353, 0.6206896551724138]"
      ]
     },
     "execution_count": 50,
     "metadata": {},
     "output_type": "execute_result"
    }
   ],
   "source": [
    "# fit model\n",
    "binary_use_random_forest = ensemble.RandomForestClassifier(n_estimators = 15)\n",
    "binary_use_random_forest.fit(X = X_train_use, y = Y_train_use)\n",
    "\n",
    "# obtain accuracies\n",
    "train_accuracy_rf_use = binary_use_random_forest.score(X = X_train_use, y = Y_train_use)\n",
    "test_accuracy_rf_use  = binary_use_random_forest.score(X = X_test_use, y = Y_test_use)\n",
    "\n",
    "# print\n",
    "[train_accuracy_rf_use, test_accuracy_rf_use]"
   ]
  },
  {
   "cell_type": "markdown",
   "metadata": {},
   "source": [
    "## 4. Assessing Precision and Recall"
   ]
  }
 ],
 "metadata": {
  "kernelspec": {
   "display_name": "Python 3",
   "language": "python",
   "name": "python3"
  },
  "language_info": {
   "codemirror_mode": {
    "name": "ipython",
    "version": 3
   },
   "file_extension": ".py",
   "mimetype": "text/x-python",
   "name": "python",
   "nbconvert_exporter": "python",
   "pygments_lexer": "ipython3",
   "version": "3.7.3"
  }
 },
 "nbformat": 4,
 "nbformat_minor": 2
}
