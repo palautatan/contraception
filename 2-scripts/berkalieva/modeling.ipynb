{
 "cells": [
  {
   "cell_type": "markdown",
   "metadata": {},
   "source": [
    "## Modeling\n",
    "\n",
    "Our question(s) of interest:\n",
    "\n",
    "1. Can we predict contraceptive method of (1) no use, (2) short term, (3) long term?\n",
    "2. Can we predict contraceptive method of (1) no use vs. (2) use?\n",
    "3. Which of the two above has a better prediction accuracy? What are pros and cons of each?\n",
    "4. Which model performs better: Logistic Regression or Random Forests?"
   ]
  },
  {
   "cell_type": "code",
   "execution_count": 1,
   "metadata": {},
   "outputs": [],
   "source": [
    "# libraries\n",
    "import pandas as pd\n",
    "import numpy as np\n",
    "\n",
    "import seaborn as sns\n",
    "import matplotlib.pyplot as plt\n",
    "sns.set(style=\"white\", context=\"talk\")\n",
    "\n",
    "from sklearn.model_selection import train_test_split\n",
    "import re"
   ]
  },
  {
   "cell_type": "code",
   "execution_count": 2,
   "metadata": {},
   "outputs": [],
   "source": [
    "# read in training data\n",
    "contra_train = pd.read_csv('../../1-data/train.csv')\n",
    "contra_test  = pd.read_csv('../../1-data/test.csv')"
   ]
  },
  {
   "cell_type": "code",
   "execution_count": 3,
   "metadata": {},
   "outputs": [
    {
     "data": {
      "text/plain": [
       "Index(['contraceptive', 'age_bin_low', 'age_bin_high', 'median_marriage_age',\n",
       "       'education_gap', 'contraceptive_use', 'wife_education_1',\n",
       "       'husband_education_2', 'husband_education_3', 'husband_education_4',\n",
       "       'wife_religion_1', 'wife_work_1', 'husband_occupation_2',\n",
       "       'husband_occupation_3', 'husband_occupation_4', 'standard_living_2',\n",
       "       'standard_living_3', 'media_exposure_1', 'education_gap_categorical_0',\n",
       "       'education_gap_categorical_1', 'wife_age', 'num_child', 'kids_per_year',\n",
       "       'est_years_married'],\n",
       "      dtype='object')"
      ]
     },
     "execution_count": 3,
     "metadata": {},
     "output_type": "execute_result"
    }
   ],
   "source": [
    "# examine data\n",
    "contra_train.head()\n",
    "contra_train.columns"
   ]
  },
  {
   "cell_type": "markdown",
   "metadata": {},
   "source": [
    "## 1. Predicting Contraceptive: No Use, Short Term, Long Term"
   ]
  },
  {
   "cell_type": "markdown",
   "metadata": {},
   "source": [
    "### Feature Selection and Data Preparation\n",
    "We will start by running our model with all existing features in the dataset to evaluate initial performance."
   ]
  },
  {
   "cell_type": "code",
   "execution_count": 4,
   "metadata": {},
   "outputs": [],
   "source": [
    "# training data\n",
    "# remove the first 2 because they are the response\n",
    "# remove age_bin because they were used for another variable\n",
    "# remove education_gap because it was coded into a categorical variable\n",
    "X_train = contra_train.drop(['contraceptive', 'contraceptive_use', 'age_bin_low', 'age_bin_high', \\\n",
    "                             'education_gap', 'wife_age', 'num_child'], axis = 1)\n",
    "Y_train = contra_train['contraceptive']\n",
    "\n",
    "# test data\n",
    "X_test = contra_test.drop(['contraceptive', 'contraceptive_use', 'age_bin_low', 'age_bin_high', \\\n",
    "                           'education_gap', 'wife_age', 'num_child'], axis = 1)\n",
    "Y_test = contra_test['contraceptive']"
   ]
  },
  {
   "cell_type": "markdown",
   "metadata": {},
   "source": [
    "### 1a. Multinomial Logistic Regression"
   ]
  },
  {
   "cell_type": "code",
   "execution_count": 5,
   "metadata": {},
   "outputs": [
    {
     "data": {
      "text/plain": [
       "[0.5520833333333334, 0.5184135977337111]"
      ]
     },
     "execution_count": 5,
     "metadata": {},
     "output_type": "execute_result"
    }
   ],
   "source": [
    "from sklearn.linear_model import LogisticRegression\n",
    "multinomial_logit = LogisticRegression(multi_class='multinomial', solver='newton-cg')\n",
    "multinomial_logit.fit(X = X_train, y = Y_train)\n",
    "\n",
    "train_accuracy_lr = multinomial_logit.score(X = X_train, y = Y_train)\n",
    "test_accuracy_lr  = multinomial_logit.score(X = X_test, y = Y_test)\n",
    "\n",
    "[train_accuracy_lr, test_accuracy_lr]"
   ]
  },
  {
   "cell_type": "code",
   "execution_count": 6,
   "metadata": {},
   "outputs": [
    {
     "data": {
      "text/plain": [
       "[0.5520833333333334, 0.5127478753541076]"
      ]
     },
     "execution_count": 6,
     "metadata": {},
     "output_type": "execute_result"
    }
   ],
   "source": [
    "from sklearn.linear_model import LogisticRegressionCV\n",
    "multinomial_logit_cv = LogisticRegressionCV(cv=10, multi_class='multinomial', solver='newton-cg')\n",
    "multinomial_logit_cv.fit(X = X_train, y = Y_train)\n",
    "\n",
    "train_accuracy_cv = multinomial_logit_cv.score(X = X_train, y = Y_train)\n",
    "test_accuracy_cv  = multinomial_logit_cv.score(X = X_test, y = Y_test)\n",
    "\n",
    "[train_accuracy_cv, test_accuracy_cv]"
   ]
  },
  {
   "cell_type": "code",
   "execution_count": 9,
   "metadata": {},
   "outputs": [
    {
     "data": {
      "text/plain": [
       "{'m+w+h+h+h+w+w+h+h+h+s+s+m+e+e+w+n+k+e': 0.5416666666666666,\n",
       " 'm+w+h+h+h+w+w+h+h+h+s+s+m+e+e+w+n+k': 0.5416666666666666,\n",
       " 'm+w+h+h+h+w+w+h+h+h+s+s+m+e+e+w+n': 0.5369318181818182,\n",
       " 'm+w+h+h+h+w+w+h+h+h+s+s+m+e+e+w': 0.5113636363636364,\n",
       " 'm+w+h+h+h+w+w+h+h+h+s+s+m+e+e': 0.4876893939393939,\n",
       " 'm+w+h+h+h+w+w+h+h+h+s+s+m+e': 0.48484848484848486,\n",
       " 'm+w+h+h+h+w+w+h+h+h+s+s+m': 0.48390151515151514,\n",
       " 'm+w+h+h+h+w+w+h+h+h+s+s': 0.48579545454545453,\n",
       " 'm+w+h+h+h+w+w+h+h+h+s': 0.49053030303030304,\n",
       " 'm+w+h+h+h+w+w+h+h+h': 0.48390151515151514,\n",
       " 'm+w+h+h+h+w+w+h+h': 0.48579545454545453,\n",
       " 'm+w+h+h+h+w+w+h': 0.4706439393939394,\n",
       " 'm+w+h+h+h+w+w': 0.45170454545454547,\n",
       " 'm+w+h+h+h+w': 0.45549242424242425,\n",
       " 'm+w+h+h+h': 0.4640151515151515,\n",
       " 'm+w+h+h': 0.4630681818181818,\n",
       " 'm+w+h': 0.4346590909090909,\n",
       " 'm+w': 0.4308712121212121,\n",
       " 'm': 0.42613636363636365}"
      ]
     },
     "execution_count": 9,
     "metadata": {},
     "output_type": "execute_result"
    }
   ],
   "source": [
    "# to track accuracy for features\n",
    "accuracy_train = {}\n",
    "accuracy_cv_train = {}\n",
    "contra_df = contra_train.drop(['contraceptive', 'contraceptive_use', 'age_bin_low', \\\n",
    "                       'age_bin_high', 'education_gap'], axis = 1)\n",
    "quantitative_features = ['median_marriage_age', 'wife_education_1', 'husband_education_2', \\\n",
    "                         'husband_education_3', 'husband_education_4', 'wife_religion_1', \\\n",
    "                         'wife_work_1', 'husband_occupation_2', 'husband_occupation_3', \\\n",
    "                         'husband_occupation_4', 'standard_living_2', 'standard_living_3', \\\n",
    "                         'media_exposure_1', 'education_gap_categorical_0', 'education_gap_categorical_1', \\\n",
    "                         'wife_age', 'num_child', 'kids_per_year', 'est_years_married']\n",
    "\n",
    "for i in reversed(range(len(quantitative_features))):\n",
    "    \n",
    "    # The features to include in the ith model\n",
    "    features = quantitative_features[:(i+1)]\n",
    "    \n",
    "    # The name we are giving to the ith model\n",
    "    name = \"+\".join([name[0] for name in features])\n",
    "    \n",
    "    # subset dataframe\n",
    "    X_train = contra_df[features]\n",
    "    Y_train = contra_train['contraceptive']\n",
    "    \n",
    "    # initialize models\n",
    "    model = LogisticRegression(multi_class='multinomial', solver='newton-cg')\n",
    "    model_cv = LogisticRegressionCV(cv=10, multi_class='multinomial', solver='newton-cg')\n",
    "    \n",
    "    # fit models\n",
    "    model.fit(X = X_train, y = Y_train)\n",
    "    model_cv.fit(X = X_train, y = Y_train)\n",
    "    train_model = model.score(X = X_train, y = Y_train)\n",
    "    train_model_cv = model_cv.score(X = X_train, y = Y_train)\n",
    "    \n",
    "    # Saving the ith model\n",
    "    accuracy_train[name] = train_model\n",
    "    accuracy_cv_train[name] = train_model_cv\n",
    "\n",
    "accuracy_train"
   ]
  },
  {
   "cell_type": "code",
   "execution_count": 13,
   "metadata": {},
   "outputs": [
    {
     "data": {
      "text/plain": [
       "{'median_marriage_age': 0.5464015151515151,\n",
       " 'wife_education_1': 0.5340909090909091,\n",
       " 'wife_religion_1': 0.5492424242424242,\n",
       " 'wife_work_1': 0.5435606060606061,\n",
       " 'media_exposure_1': 0.5359848484848485,\n",
       " 'wife_age': 0.540719696969697,\n",
       " 'num_child': 0.5501893939393939,\n",
       " 'kids_per_year': 0.5369318181818182,\n",
       " 'est_years_married': 0.5416666666666666}"
      ]
     },
     "execution_count": 13,
     "metadata": {},
     "output_type": "execute_result"
    }
   ],
   "source": [
    "# modified df\n",
    "contra_df = contra_train.drop(['contraceptive', 'contraceptive_use', 'age_bin_low', \\\n",
    "                       'age_bin_high', 'education_gap'], axis = 1)\n",
    "\n",
    "quantitative_features = ['median_marriage_age', 'wife_education_1', 'wife_religion_1', \\\n",
    "                         'wife_work_1', 'media_exposure_1', 'wife_age', 'num_child', \\\n",
    "                         'kids_per_year', 'est_years_married']\n",
    "\n",
    "# to track accuracy for features\n",
    "accuracy_train = {}\n",
    "accuracy_cv_train = {}\n",
    "\n",
    "# loop through feature removal\n",
    "for i in range(len(quantitative_features)):\n",
    "    \n",
    "    # The features to include in the ith model\n",
    "    #features = quantitative_features[:(i+1)]\n",
    "    \n",
    "    # The name we are giving to the ith model\n",
    "    #name = \"-\".join([name[i] for name in features])\n",
    "    name = quantitative_features[i]\n",
    "    \n",
    "    # subset dataframe\n",
    "    X_train = contra_df.drop(quantitative_features[i], axis = 1)\n",
    "    Y_train = contra_train['contraceptive']\n",
    "    \n",
    "    # initialize models\n",
    "    model = LogisticRegression(multi_class='multinomial', solver='newton-cg')\n",
    "    model_cv = LogisticRegressionCV(cv=10, multi_class='multinomial', solver='newton-cg')\n",
    "    \n",
    "    # fit models\n",
    "    model.fit(X = X_train, y = Y_train)\n",
    "    model_cv.fit(X = X_train, y = Y_train)\n",
    "    train_model = model.score(X = X_train, y = Y_train)\n",
    "    train_model_cv = model_cv.score(X = X_train, y = Y_train)\n",
    "    \n",
    "    # Saving the ith model\n",
    "    accuracy_train[name] = train_model\n",
    "    accuracy_cv_train[name] = train_model_cv\n",
    "\n",
    "accuracy_train"
   ]
  },
  {
   "cell_type": "code",
   "execution_count": 57,
   "metadata": {},
   "outputs": [
    {
     "data": {
      "text/plain": [
       "[Text(0, 0, 'median_marriage_age'),\n",
       " Text(0, 0, 'wife_education_1'),\n",
       " Text(0, 0, 'wife_religion_1'),\n",
       " Text(0, 0, 'wife_work_1'),\n",
       " Text(0, 0, 'media_exposure_1'),\n",
       " Text(0, 0, 'wife_age'),\n",
       " Text(0, 0, 'num_child'),\n",
       " Text(0, 0, 'kids_per_year'),\n",
       " Text(0, 0, 'est_years_married')]"
      ]
     },
     "execution_count": 57,
     "metadata": {},
     "output_type": "execute_result"
    },
    {
     "data": {
      "image/png": "[encoded data removed]",
      "text/plain": [
       "<Figure size 720x576 with 1 Axes>"
      ]
     },
     "metadata": {
      "needs_background": "light"
     },
     "output_type": "display_data"
    }
   ],
   "source": [
    "# prepare train df for plotting\n",
    "accuracy_train_df = pd.DataFrame(accuracy_train.items(), columns = ['feature','accuracy'])\n",
    "accuracy_train_df['type'] = 'train'\n",
    "\n",
    "# prepare cv df for plotting\n",
    "accuracy_cv_train_df = pd.DataFrame(accuracy_cv_train.items(), columns = ['feature','accuracy'])\n",
    "accuracy_cv_train_df['type'] = 'cv'\n",
    "\n",
    "# combine datasets\n",
    "accuracy_df = pd.concat([accuracy_train_df, accuracy_cv_train_df])\n",
    "#accuracy_df.sort_values(['accuracy'], ascending = True)\n",
    "\n",
    "# generate plot\n",
    "plt.figure(figsize=(10,8))\n",
    "ax = sns.barplot(x = 'feature', y = 'accuracy', hue = 'type', data = accuracy_df,\n",
    "                palette=['#DF6589', '#FFC3AF'])\n",
    "plt.ylim(0.5, 0.57)\n",
    "ax.set(xlabel='Feature',\n",
    "       ylabel='Accuracy',\n",
    "       title='Model Accuracy Removing Each Feature');\n",
    "ax.set_xticklabels(ax.get_xticklabels(), rotation = 90)"
   ]
  },
  {
   "cell_type": "markdown",
   "metadata": {},
   "source": [
    "### 1b. Random Forests"
   ]
  },
  {
   "cell_type": "code",
   "execution_count": 13,
   "metadata": {},
   "outputs": [
    {
     "data": {
      "text/plain": [
       "[0.9545454545454546, 0.5042492917847026]"
      ]
     },
     "execution_count": 13,
     "metadata": {},
     "output_type": "execute_result"
    }
   ],
   "source": [
    "from sklearn import ensemble\n",
    "random_forest = ensemble.RandomForestClassifier(n_estimators=20)\n",
    "random_forest.fit(X = X_train, y = Y_train)\n",
    "\n",
    "train_accuracy_rf = random_forest.score(X = X_train, y = Y_train)\n",
    "test_accuracy_rf = random_forest.score(X = X_test, y = Y_test)\n",
    "\n",
    "[train_accuracy_rf, test_accuracy_rf]"
   ]
  },
  {
   "cell_type": "markdown",
   "metadata": {},
   "source": [
    "## 2. Predicting Binary Contraceptive: No vs. Yes"
   ]
  },
  {
   "cell_type": "markdown",
   "metadata": {},
   "source": [
    "### Feature Selection and Data Preparation"
   ]
  },
  {
   "cell_type": "code",
   "execution_count": 14,
   "metadata": {},
   "outputs": [],
   "source": [
    "# training data\n",
    "X_train_binary = contra_train.drop(['contraceptive', 'contraceptive_use', 'age_bin_low', 'age_bin_high', \\\n",
    "                                    'education_gap', 'wife_age'], axis = 1)\n",
    "Y_train_binary = contra_train['contraceptive_use']\n",
    "\n",
    "# test data\n",
    "X_test_binary = contra_test.drop(['contraceptive', 'contraceptive_use', 'age_bin_low', 'age_bin_high', \\\n",
    "                                  'education_gap', 'wife_age'], axis = 1)\n",
    "Y_test_binary = contra_test['contraceptive_use']"
   ]
  },
  {
   "cell_type": "markdown",
   "metadata": {},
   "source": [
    "### 2a. Multinomial Logistic Regression"
   ]
  },
  {
   "cell_type": "code",
   "execution_count": 15,
   "metadata": {},
   "outputs": [
    {
     "data": {
      "text/plain": [
       "[0.6998106060606061, 0.7110481586402266]"
      ]
     },
     "execution_count": 15,
     "metadata": {},
     "output_type": "execute_result"
    }
   ],
   "source": [
    "from sklearn.linear_model import LogisticRegression\n",
    "binary_logit = LogisticRegression(solver = 'newton-cg')\n",
    "binary_logit.fit(X = X_train_binary, y = Y_train_binary)\n",
    "\n",
    "train_accuracy_lr_binary = binary_logit.score(X = X_train_binary, y = Y_train_binary)\n",
    "test_accuracy_lr_binary  = binary_logit.score(X = X_test_binary, y = Y_test_binary)\n",
    "\n",
    "[train_accuracy_lr_binary, test_accuracy_lr_binary]"
   ]
  },
  {
   "cell_type": "code",
   "execution_count": 16,
   "metadata": {},
   "outputs": [
    {
     "data": {
      "text/plain": [
       "[0.7007575757575758, 0.7053824362606232]"
      ]
     },
     "execution_count": 16,
     "metadata": {},
     "output_type": "execute_result"
    }
   ],
   "source": [
    "from sklearn.linear_model import LogisticRegressionCV\n",
    "binary_logit_cv = LogisticRegressionCV(cv = 10, solver = 'newton-cg')\n",
    "binary_logit_cv.fit(X = X_train_binary, y = Y_train_binary)\n",
    "\n",
    "train_accuracy_cv_binary = binary_logit_cv.score(X = X_train_binary, y = Y_train_binary)\n",
    "test_accuracy_cv_binary  = binary_logit_cv.score(X = X_test_binary, y = Y_test_binary)\n",
    "\n",
    "[train_accuracy_cv_binary, test_accuracy_cv_binary]"
   ]
  },
  {
   "cell_type": "markdown",
   "metadata": {},
   "source": [
    "### 2b. Random Forests"
   ]
  },
  {
   "cell_type": "code",
   "execution_count": 17,
   "metadata": {},
   "outputs": [
    {
     "data": {
      "text/plain": [
       "[0.978219696969697, 0.6798866855524079]"
      ]
     },
     "execution_count": 17,
     "metadata": {},
     "output_type": "execute_result"
    }
   ],
   "source": [
    "from sklearn import ensemble\n",
    "binary_random_forest = ensemble.RandomForestClassifier(n_estimators = 20)\n",
    "binary_random_forest.fit(X = X_train_binary, y = Y_train_binary)\n",
    "\n",
    "train_accuracy_rf_binary = binary_random_forest.score(X = X_train_binary, y = Y_train_binary)\n",
    "test_accuracy_rf_binary  = binary_random_forest.score(X = X_test_binary, y = Y_test_binary)\n",
    "\n",
    "[train_accuracy_rf_binary, test_accuracy_rf_binary]"
   ]
  },
  {
   "cell_type": "markdown",
   "metadata": {},
   "source": [
    "## 3. Predicting Contraceptive of Those Who Use: Short-term vs. Long-term"
   ]
  },
  {
   "cell_type": "markdown",
   "metadata": {},
   "source": [
    "### Feature Selection and Data Preparation"
   ]
  },
  {
   "cell_type": "code",
   "execution_count": 18,
   "metadata": {},
   "outputs": [
    {
     "data": {
      "text/plain": [
       "Index(['contraceptive', 'age_bin_low', 'age_bin_high', 'median_marriage_age',\n",
       "       'education_gap', 'contraceptive_use', 'wife_education_1',\n",
       "       'husband_education_2', 'husband_education_3', 'husband_education_4',\n",
       "       'wife_religion_1', 'wife_work_1', 'husband_occupation_2',\n",
       "       'husband_occupation_3', 'husband_occupation_4', 'standard_living_2',\n",
       "       'standard_living_3', 'media_exposure_1', 'education_gap_categorical_0',\n",
       "       'education_gap_categorical_1', 'wife_age', 'num_child', 'kids_per_year',\n",
       "       'est_years_married'],\n",
       "      dtype='object')"
      ]
     },
     "execution_count": 18,
     "metadata": {},
     "output_type": "execute_result"
    }
   ],
   "source": [
    "contra_train.columns"
   ]
  },
  {
   "cell_type": "code",
   "execution_count": 19,
   "metadata": {},
   "outputs": [],
   "source": [
    "# data preprocessing\n",
    "contra_train_use = contra_train[contra_train['contraceptive_use'] == 1]\n",
    "contra_test_use = contra_test[contra_test['contraceptive_use'] == 1]\n",
    "\n",
    "# training data\n",
    "X_train_use = contra_train_use.drop(['contraceptive', 'contraceptive_use', 'age_bin_low', 'age_bin_high', \\\n",
    "                                     'education_gap', 'wife_education_1', 'wife_work_1', 'wife_age'], axis = 1)\n",
    "Y_train_use = contra_train_use['contraceptive']\n",
    "\n",
    "# test data\n",
    "X_test_use = contra_test_use.drop(['contraceptive', 'contraceptive_use', 'age_bin_low', 'age_bin_high', \\\n",
    "                                   'education_gap', 'wife_education_1', 'wife_work_1', 'wife_age'], axis = 1)\n",
    "Y_test_use = contra_test_use['contraceptive']"
   ]
  },
  {
   "cell_type": "markdown",
   "metadata": {},
   "source": [
    "### 3a. Multinomial Logistic Regression"
   ]
  },
  {
   "cell_type": "code",
   "execution_count": 20,
   "metadata": {},
   "outputs": [
    {
     "data": {
      "text/plain": [
       "[0.6705685618729097, 0.6543778801843319]"
      ]
     },
     "execution_count": 20,
     "metadata": {},
     "output_type": "execute_result"
    }
   ],
   "source": [
    "from sklearn.linear_model import LogisticRegression\n",
    "binary_use_logit = LogisticRegression(solver = 'newton-cg')\n",
    "binary_use_logit.fit(X = X_train_use, y = Y_train_use)\n",
    "\n",
    "train_accuracy_lr_use = binary_use_logit.score(X = X_train_use, y = Y_train_use)\n",
    "test_accuracy_lr_use  = binary_use_logit.score(X = X_test_use, y = Y_test_use)\n",
    "\n",
    "[train_accuracy_lr_use, test_accuracy_lr_use]"
   ]
  },
  {
   "cell_type": "code",
   "execution_count": 21,
   "metadata": {},
   "outputs": [
    {
     "data": {
      "text/plain": [
       "[0.6705685618729097, 0.663594470046083]"
      ]
     },
     "execution_count": 21,
     "metadata": {},
     "output_type": "execute_result"
    }
   ],
   "source": [
    "from sklearn.linear_model import LogisticRegressionCV\n",
    "binary_use_logit_cv = LogisticRegressionCV(cv = 10, solver = 'newton-cg')\n",
    "binary_use_logit_cv.fit(X = X_train_use, y = Y_train_use)\n",
    "\n",
    "train_accuracy_cv_use = binary_use_logit_cv.score(X = X_train_use, y = Y_train_use)\n",
    "test_accuracy_cv_use  = binary_use_logit_cv.score(X = X_test_use, y = Y_test_use)\n",
    "\n",
    "[train_accuracy_cv_use, test_accuracy_cv_use]"
   ]
  },
  {
   "cell_type": "markdown",
   "metadata": {},
   "source": [
    "### 3b. Random Forests"
   ]
  },
  {
   "cell_type": "code",
   "execution_count": 22,
   "metadata": {},
   "outputs": [
    {
     "data": {
      "text/plain": [
       "[0.9431438127090301, 0.6589861751152074]"
      ]
     },
     "execution_count": 22,
     "metadata": {},
     "output_type": "execute_result"
    }
   ],
   "source": [
    "from sklearn import ensemble\n",
    "binary_use_random_forest = ensemble.RandomForestClassifier(n_estimators = 20)\n",
    "binary_use_random_forest.fit(X = X_train_use, y = Y_train_use)\n",
    "\n",
    "train_accuracy_rf_use = binary_use_random_forest.score(X = X_train_use, y = Y_train_use)\n",
    "test_accuracy_rf_use  = binary_use_random_forest.score(X = X_test_use, y = Y_test_use)\n",
    "\n",
    "[train_accuracy_rf_use, test_accuracy_rf_use]"
   ]
  }
 ],
 "metadata": {
  "kernelspec": {
   "display_name": "Python 3",
   "language": "python",
   "name": "python3"
  },
  "language_info": {
   "codemirror_mode": {
    "name": "ipython",
    "version": 3
   },
   "file_extension": ".py",
   "mimetype": "text/x-python",
   "name": "python",
   "nbconvert_exporter": "python",
   "pygments_lexer": "ipython3",
   "version": "3.7.3"
  }
 },
 "nbformat": 4,
 "nbformat_minor": 2
}
