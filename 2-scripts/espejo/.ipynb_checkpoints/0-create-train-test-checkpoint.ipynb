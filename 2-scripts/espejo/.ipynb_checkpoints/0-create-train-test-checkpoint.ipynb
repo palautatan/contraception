{
 "cells": [
  {
   "cell_type": "markdown",
   "metadata": {},
   "source": [
    "# Splitting into train and test.\n",
    "I am feature engineering then splitting into train and test sets here."
   ]
  },
  {
   "cell_type": "code",
   "execution_count": 1,
   "metadata": {},
   "outputs": [],
   "source": [
    "import pandas as pd\n",
    "import numpy as np\n",
    "from sklearn.model_selection import train_test_split\n",
    "import re"
   ]
  },
  {
   "cell_type": "code",
   "execution_count": 2,
   "metadata": {},
   "outputs": [],
   "source": [
    "contra = pd.read_csv('../../1-data/contraceptive_for_students.csv')\n",
    "this_dic = {1:0, 3:1, 2:2}\n",
    "contra['contraceptive'] = contra['contraceptive'].map(this_dic)"
   ]
  },
  {
   "cell_type": "code",
   "execution_count": 3,
   "metadata": {},
   "outputs": [
    {
     "data": {
      "text/html": [
       "<div>\n",
       "<style scoped>\n",
       "    .dataframe tbody tr th:only-of-type {\n",
       "        vertical-align: middle;\n",
       "    }\n",
       "\n",
       "    .dataframe tbody tr th {\n",
       "        vertical-align: top;\n",
       "    }\n",
       "\n",
       "    .dataframe thead th {\n",
       "        text-align: right;\n",
       "    }\n",
       "</style>\n",
       "<table border=\"1\" class=\"dataframe\">\n",
       "  <thead>\n",
       "    <tr style=\"text-align: right;\">\n",
       "      <th></th>\n",
       "      <th>wife_age</th>\n",
       "      <th>wife_education</th>\n",
       "      <th>husband_education</th>\n",
       "      <th>num_child</th>\n",
       "      <th>wife_religion</th>\n",
       "      <th>wife_work</th>\n",
       "      <th>husband_occupation</th>\n",
       "      <th>standard_living</th>\n",
       "      <th>media_exposure</th>\n",
       "      <th>contraceptive</th>\n",
       "    </tr>\n",
       "  </thead>\n",
       "  <tbody>\n",
       "    <tr>\n",
       "      <td>0</td>\n",
       "      <td>24</td>\n",
       "      <td>2</td>\n",
       "      <td>3</td>\n",
       "      <td>3</td>\n",
       "      <td>1</td>\n",
       "      <td>1</td>\n",
       "      <td>2</td>\n",
       "      <td>3</td>\n",
       "      <td>0</td>\n",
       "      <td>0</td>\n",
       "    </tr>\n",
       "    <tr>\n",
       "      <td>1</td>\n",
       "      <td>45</td>\n",
       "      <td>1</td>\n",
       "      <td>3</td>\n",
       "      <td>10</td>\n",
       "      <td>1</td>\n",
       "      <td>1</td>\n",
       "      <td>3</td>\n",
       "      <td>4</td>\n",
       "      <td>0</td>\n",
       "      <td>0</td>\n",
       "    </tr>\n",
       "    <tr>\n",
       "      <td>2</td>\n",
       "      <td>43</td>\n",
       "      <td>2</td>\n",
       "      <td>3</td>\n",
       "      <td>7</td>\n",
       "      <td>1</td>\n",
       "      <td>1</td>\n",
       "      <td>3</td>\n",
       "      <td>4</td>\n",
       "      <td>0</td>\n",
       "      <td>0</td>\n",
       "    </tr>\n",
       "    <tr>\n",
       "      <td>3</td>\n",
       "      <td>42</td>\n",
       "      <td>3</td>\n",
       "      <td>2</td>\n",
       "      <td>9</td>\n",
       "      <td>1</td>\n",
       "      <td>1</td>\n",
       "      <td>3</td>\n",
       "      <td>3</td>\n",
       "      <td>0</td>\n",
       "      <td>0</td>\n",
       "    </tr>\n",
       "    <tr>\n",
       "      <td>4</td>\n",
       "      <td>36</td>\n",
       "      <td>3</td>\n",
       "      <td>3</td>\n",
       "      <td>8</td>\n",
       "      <td>1</td>\n",
       "      <td>1</td>\n",
       "      <td>3</td>\n",
       "      <td>2</td>\n",
       "      <td>0</td>\n",
       "      <td>0</td>\n",
       "    </tr>\n",
       "  </tbody>\n",
       "</table>\n",
       "</div>"
      ],
      "text/plain": [
       "   wife_age  wife_education  husband_education  num_child  wife_religion  \\\n",
       "0        24               2                  3          3              1   \n",
       "1        45               1                  3         10              1   \n",
       "2        43               2                  3          7              1   \n",
       "3        42               3                  2          9              1   \n",
       "4        36               3                  3          8              1   \n",
       "\n",
       "   wife_work  husband_occupation  standard_living  media_exposure  \\\n",
       "0          1                   2                3               0   \n",
       "1          1                   3                4               0   \n",
       "2          1                   3                4               0   \n",
       "3          1                   3                3               0   \n",
       "4          1                   3                2               0   \n",
       "\n",
       "   contraceptive  \n",
       "0              0  \n",
       "1              0  \n",
       "2              0  \n",
       "3              0  \n",
       "4              0  "
      ]
     },
     "execution_count": 3,
     "metadata": {},
     "output_type": "execute_result"
    }
   ],
   "source": [
    "contra.head(5)"
   ]
  },
  {
   "cell_type": "markdown",
   "metadata": {},
   "source": [
    "# Feature Engineering."
   ]
  },
  {
   "cell_type": "markdown",
   "metadata": {},
   "source": [
    "## 1. Kids Per Married Year (KPMY)"
   ]
  },
  {
   "cell_type": "markdown",
   "metadata": {},
   "source": [
    "First, we remove entries where the wife's age is less than 20, exactly **[34]** records. This was done to incorporate information from the original survey pamphlet which listed the median marriage ages for age groups. The median age of our dataset was raised by 1 year due to the loss in 2% of our dataset. This loss was made reasonable by the fact that number of children and age are highly associated, and we wanted to use the information on birth rates while married (\"kids per married year\")."
   ]
  },
  {
   "cell_type": "code",
   "execution_count": 4,
   "metadata": {},
   "outputs": [],
   "source": [
    "contra = contra[contra.wife_age > 20]\n",
    "contra = contra.reset_index(drop=True)"
   ]
  },
  {
   "cell_type": "code",
   "execution_count": 5,
   "metadata": {},
   "outputs": [],
   "source": [
    "age_intervals = pd.IntervalIndex.from_tuples([(20, 24), (24, 29), (29, 34), (34,39), (39,44), (44, 49)])\n",
    "age_interval_df = pd.DataFrame(age_intervals)"
   ]
  },
  {
   "cell_type": "code",
   "execution_count": 6,
   "metadata": {},
   "outputs": [],
   "source": [
    "age_interval_df['median_marriage_age'] = [19.6, 18.1, 17.6, 16.8, 16.4, 16.5]"
   ]
  },
  {
   "cell_type": "code",
   "execution_count": 7,
   "metadata": {},
   "outputs": [],
   "source": [
    "age_interval_df = age_interval_df.rename({0:'age_bin'}, axis=1)\n",
    "age_interval_df['age_bin'] = age_interval_df['age_bin'].astype(str)"
   ]
  },
  {
   "cell_type": "markdown",
   "metadata": {},
   "source": [
    "The following function cleans the lower bound and upper bound of the intervals into their own columns."
   ]
  },
  {
   "cell_type": "code",
   "execution_count": 8,
   "metadata": {},
   "outputs": [],
   "source": [
    "def cleanIntervals(age_intervals):\n",
    "    '''\n",
    "    Input:\n",
    "        age_intervals: Array of intervals\n",
    "    Output:\n",
    "        lows: An array of lower bounds\n",
    "        highs: An array of upper bounds\n",
    "    '''\n",
    "    \n",
    "    lows  = []\n",
    "    highs = []\n",
    "    \n",
    "    for ix in range(len(age_intervals)):\n",
    "        lo_hi = [re.sub('\\(|\\]', '', k) for k in age_intervals[ix].split(',')]\n",
    "        lows.append(lo_hi[0])\n",
    "        highs.append(lo_hi[1])\n",
    "        \n",
    "    return(np.array(lows),\n",
    "           np.array(highs))"
   ]
  },
  {
   "cell_type": "code",
   "execution_count": 9,
   "metadata": {},
   "outputs": [],
   "source": [
    "age_interval_df['age_bin_low'], age_interval_df['age_bin_high'] = cleanIntervals(age_interval_df.age_bin)"
   ]
  },
  {
   "cell_type": "markdown",
   "metadata": {},
   "source": [
    "We are using `pd.cut` to create the age ranges within the initial dataset."
   ]
  },
  {
   "cell_type": "code",
   "execution_count": 10,
   "metadata": {},
   "outputs": [],
   "source": [
    "# age_intervals = pd.IntervalIndex.from_tuples([(20, 24), (24, 29), (29, 34), (34,39), (39,44), (44, 49)])\n",
    "contra['age_bin'] = pd.cut(contra.wife_age, bins=age_intervals)\n",
    "\n",
    "# FILL THE NA'S\n",
    "contra['age_bin'] = contra['age_bin'].cat.add_categories('None')\n",
    "contra['age_bin'] = contra['age_bin'].fillna('None')\n",
    "contra['age_bin'] = contra['age_bin'].astype(str)"
   ]
  },
  {
   "cell_type": "code",
   "execution_count": 11,
   "metadata": {},
   "outputs": [],
   "source": [
    "contra['age_bin_low'], contra['age_bin_high'] = cleanIntervals(contra.age_bin)"
   ]
  },
  {
   "cell_type": "code",
   "execution_count": 12,
   "metadata": {},
   "outputs": [],
   "source": [
    "contra = contra.merge(age_interval_df)"
   ]
  },
  {
   "cell_type": "markdown",
   "metadata": {},
   "source": [
    "We are creating a column called `est_years_married` that is the wife's age minus the median marriage age for her age group."
   ]
  },
  {
   "cell_type": "code",
   "execution_count": 13,
   "metadata": {},
   "outputs": [],
   "source": [
    "contra['est_years_married'] = contra['wife_age'] - contra['median_marriage_age']"
   ]
  },
  {
   "cell_type": "markdown",
   "metadata": {},
   "source": [
    "We are creating `kids_per_year` which is the amount of kids divided by the number of estimated years married."
   ]
  },
  {
   "cell_type": "code",
   "execution_count": 14,
   "metadata": {},
   "outputs": [],
   "source": [
    "contra['kids_per_year'] = contra['num_child'] / contra['est_years_married']"
   ]
  },
  {
   "cell_type": "markdown",
   "metadata": {},
   "source": [
    "Finally, I'm just going to drop the unnecessary `age_bin` feature since we already have the lower and upper bounds in the dataset."
   ]
  },
  {
   "cell_type": "code",
   "execution_count": 15,
   "metadata": {},
   "outputs": [],
   "source": [
    "contra.drop(['age_bin'], axis=1, inplace=True)"
   ]
  },
  {
   "cell_type": "code",
   "execution_count": 16,
   "metadata": {},
   "outputs": [
    {
     "data": {
      "text/html": [
       "<div>\n",
       "<style scoped>\n",
       "    .dataframe tbody tr th:only-of-type {\n",
       "        vertical-align: middle;\n",
       "    }\n",
       "\n",
       "    .dataframe tbody tr th {\n",
       "        vertical-align: top;\n",
       "    }\n",
       "\n",
       "    .dataframe thead th {\n",
       "        text-align: right;\n",
       "    }\n",
       "</style>\n",
       "<table border=\"1\" class=\"dataframe\">\n",
       "  <thead>\n",
       "    <tr style=\"text-align: right;\">\n",
       "      <th></th>\n",
       "      <th>wife_age</th>\n",
       "      <th>wife_education</th>\n",
       "      <th>husband_education</th>\n",
       "      <th>num_child</th>\n",
       "      <th>wife_religion</th>\n",
       "      <th>wife_work</th>\n",
       "      <th>husband_occupation</th>\n",
       "      <th>standard_living</th>\n",
       "      <th>media_exposure</th>\n",
       "      <th>contraceptive</th>\n",
       "      <th>age_bin_low</th>\n",
       "      <th>age_bin_high</th>\n",
       "      <th>median_marriage_age</th>\n",
       "      <th>est_years_married</th>\n",
       "      <th>kids_per_year</th>\n",
       "    </tr>\n",
       "  </thead>\n",
       "  <tbody>\n",
       "    <tr>\n",
       "      <td>0</td>\n",
       "      <td>24</td>\n",
       "      <td>2</td>\n",
       "      <td>3</td>\n",
       "      <td>3</td>\n",
       "      <td>1</td>\n",
       "      <td>1</td>\n",
       "      <td>2</td>\n",
       "      <td>3</td>\n",
       "      <td>0</td>\n",
       "      <td>0</td>\n",
       "      <td>20</td>\n",
       "      <td>24</td>\n",
       "      <td>19.6</td>\n",
       "      <td>4.4</td>\n",
       "      <td>0.681818</td>\n",
       "    </tr>\n",
       "    <tr>\n",
       "      <td>1</td>\n",
       "      <td>21</td>\n",
       "      <td>3</td>\n",
       "      <td>3</td>\n",
       "      <td>1</td>\n",
       "      <td>1</td>\n",
       "      <td>0</td>\n",
       "      <td>3</td>\n",
       "      <td>2</td>\n",
       "      <td>0</td>\n",
       "      <td>0</td>\n",
       "      <td>20</td>\n",
       "      <td>24</td>\n",
       "      <td>19.6</td>\n",
       "      <td>1.4</td>\n",
       "      <td>0.714286</td>\n",
       "    </tr>\n",
       "  </tbody>\n",
       "</table>\n",
       "</div>"
      ],
      "text/plain": [
       "   wife_age  wife_education  husband_education  num_child  wife_religion  \\\n",
       "0        24               2                  3          3              1   \n",
       "1        21               3                  3          1              1   \n",
       "\n",
       "   wife_work  husband_occupation  standard_living  media_exposure  \\\n",
       "0          1                   2                3               0   \n",
       "1          0                   3                2               0   \n",
       "\n",
       "   contraceptive age_bin_low age_bin_high  median_marriage_age  \\\n",
       "0              0          20           24                 19.6   \n",
       "1              0          20           24                 19.6   \n",
       "\n",
       "   est_years_married  kids_per_year  \n",
       "0                4.4       0.681818  \n",
       "1                1.4       0.714286  "
      ]
     },
     "execution_count": 16,
     "metadata": {},
     "output_type": "execute_result"
    }
   ],
   "source": [
    "contra.head(2)"
   ]
  },
  {
   "cell_type": "markdown",
   "metadata": {},
   "source": [
    "## 2. Education gap.\n",
    "We also are creating `education_gap` which is the level of husband's education minus the level of the wife's."
   ]
  },
  {
   "cell_type": "code",
   "execution_count": 17,
   "metadata": {},
   "outputs": [],
   "source": [
    "contra['education_gap'] = contra['husband_education'] - contra['wife_education']"
   ]
  },
  {
   "cell_type": "markdown",
   "metadata": {},
   "source": [
    "Here is a little information on `education_gap`."
   ]
  },
  {
   "cell_type": "code",
   "execution_count": 18,
   "metadata": {},
   "outputs": [],
   "source": [
    "import seaborn as sns\n",
    "sns.boxplot(contra['education_gap']);"
   ]
  },
  {
   "cell_type": "code",
   "execution_count": 19,
   "metadata": {},
   "outputs": [
    {
     "data": {
      "text/html": [
       "<div>\n",
       "<style scoped>\n",
       "    .dataframe tbody tr th:only-of-type {\n",
       "        vertical-align: middle;\n",
       "    }\n",
       "\n",
       "    .dataframe tbody tr th {\n",
       "        vertical-align: top;\n",
       "    }\n",
       "\n",
       "    .dataframe thead th {\n",
       "        text-align: right;\n",
       "    }\n",
       "</style>\n",
       "<table border=\"1\" class=\"dataframe\">\n",
       "  <thead>\n",
       "    <tr style=\"text-align: right;\">\n",
       "      <th></th>\n",
       "      <th>education_gap</th>\n",
       "    </tr>\n",
       "  </thead>\n",
       "  <tbody>\n",
       "    <tr>\n",
       "      <td>-3</td>\n",
       "      <td>1</td>\n",
       "    </tr>\n",
       "    <tr>\n",
       "      <td>-2</td>\n",
       "      <td>9</td>\n",
       "    </tr>\n",
       "    <tr>\n",
       "      <td>-1</td>\n",
       "      <td>63</td>\n",
       "    </tr>\n",
       "    <tr>\n",
       "      <td>0</td>\n",
       "      <td>779</td>\n",
       "    </tr>\n",
       "    <tr>\n",
       "      <td>1</td>\n",
       "      <td>391</td>\n",
       "    </tr>\n",
       "    <tr>\n",
       "      <td>2</td>\n",
       "      <td>144</td>\n",
       "    </tr>\n",
       "    <tr>\n",
       "      <td>3</td>\n",
       "      <td>22</td>\n",
       "    </tr>\n",
       "  </tbody>\n",
       "</table>\n",
       "</div>"
      ],
      "text/plain": [
       "    education_gap\n",
       "-3              1\n",
       "-2              9\n",
       "-1             63\n",
       " 0            779\n",
       " 1            391\n",
       " 2            144\n",
       " 3             22"
      ]
     },
     "execution_count": 19,
     "metadata": {},
     "output_type": "execute_result"
    }
   ],
   "source": [
    "contra.education_gap.value_counts().to_frame().sort_index()"
   ]
  },
  {
   "cell_type": "markdown",
   "metadata": {},
   "source": [
    "I am creating a categorical version of the above variable `education_gap_categorical` because while there are gaps between these ordinal levels of education, the interval widths are subject to educational standards and are not numerical. However, the magnitude embedded into the variable `education_gap` could still be useful in predictions, therefore we will have both available for use in the dataset."
   ]
  },
  {
   "cell_type": "code",
   "execution_count": 20,
   "metadata": {},
   "outputs": [],
   "source": [
    "gap_intervals = [-3, 0, 1, 4]\n",
    "contra['education_gap_categorical'] = pd.cut(contra.education_gap, bins=gap_intervals, labels=[-1, 0, 1], right=False)"
   ]
  },
  {
   "cell_type": "code",
   "execution_count": 21,
   "metadata": {},
   "outputs": [
    {
     "data": {
      "text/html": [
       "<div>\n",
       "<style scoped>\n",
       "    .dataframe tbody tr th:only-of-type {\n",
       "        vertical-align: middle;\n",
       "    }\n",
       "\n",
       "    .dataframe tbody tr th {\n",
       "        vertical-align: top;\n",
       "    }\n",
       "\n",
       "    .dataframe thead th {\n",
       "        text-align: right;\n",
       "    }\n",
       "</style>\n",
       "<table border=\"1\" class=\"dataframe\">\n",
       "  <thead>\n",
       "    <tr style=\"text-align: right;\">\n",
       "      <th></th>\n",
       "      <th>education_gap_categorical</th>\n",
       "    </tr>\n",
       "  </thead>\n",
       "  <tbody>\n",
       "    <tr>\n",
       "      <td>-1</td>\n",
       "      <td>73</td>\n",
       "    </tr>\n",
       "    <tr>\n",
       "      <td>0</td>\n",
       "      <td>779</td>\n",
       "    </tr>\n",
       "    <tr>\n",
       "      <td>1</td>\n",
       "      <td>557</td>\n",
       "    </tr>\n",
       "  </tbody>\n",
       "</table>\n",
       "</div>"
      ],
      "text/plain": [
       "    education_gap_categorical\n",
       "-1                         73\n",
       " 0                        779\n",
       " 1                        557"
      ]
     },
     "execution_count": 21,
     "metadata": {},
     "output_type": "execute_result"
    }
   ],
   "source": [
    "contra.education_gap_categorical.value_counts().to_frame().sort_index()"
   ]
  },
  {
   "cell_type": "markdown",
   "metadata": {},
   "source": [
    "## 3. Contraceptive Use.\n",
    "We are also adding in a binary `contraceptive_use` covariate that is `0` for if a woman does not use contraception and `1` if she does."
   ]
  },
  {
   "cell_type": "code",
   "execution_count": 22,
   "metadata": {},
   "outputs": [],
   "source": [
    "this_dic = {0:0, 1:1, 2:1}\n",
    "contra['contraceptive_use'] = contra['contraceptive'].map(this_dic)"
   ]
  },
  {
   "cell_type": "markdown",
   "metadata": {},
   "source": [
    "## 4. Adjusted standard of living.\n",
    "The below code combines middle-low and middle-high standards of living into a single category. We now have 3 total levels for standard of living."
   ]
  },
  {
   "cell_type": "code",
   "execution_count": 23,
   "metadata": {},
   "outputs": [],
   "source": [
    "this_dic = {1: 1, 2:2, 3:2, 4:3}\n",
    "contra['standard_living'] = contra['standard_living'].map(this_dic)"
   ]
  },
  {
   "cell_type": "markdown",
   "metadata": {},
   "source": [
    "## 5. Adjusted education level.\n",
    "The below code separates wives' education level into `0` for not having completed primary school and `1` for completing primary school. This was informed by the survey pamphlet."
   ]
  },
  {
   "cell_type": "code",
   "execution_count": 24,
   "metadata": {},
   "outputs": [],
   "source": [
    "this_dic = {1:0, 2:0, 3:1, 4:1}\n",
    "contra['wife_education'] = contra['wife_education'].map(this_dic)"
   ]
  },
  {
   "cell_type": "code",
   "execution_count": 25,
   "metadata": {},
   "outputs": [],
   "source": [
    "contra_untransf = contra"
   ]
  },
  {
   "cell_type": "markdown",
   "metadata": {},
   "source": [
    "## 6. One-hot encording categorical variables.\n",
    "We are one-hot encoding the categorical variables, which are:\n",
    "\n",
    "- wife_education\n",
    "- husband_education\n",
    "- wife_religion\n",
    "- wife_work\n",
    "- husband_occupation\n",
    "- standard_living\n",
    "- media_exposure\n",
    "- education_gap_categorical"
   ]
  },
  {
   "cell_type": "code",
   "execution_count": 26,
   "metadata": {},
   "outputs": [],
   "source": [
    "contra = pd.get_dummies(contra,\n",
    "                        columns=['wife_education', 'husband_education', 'wife_religion',\n",
    "                                 'wife_work', 'husband_occupation', 'standard_living',\n",
    "                                 'media_exposure', 'education_gap_categorical'],\n",
    "                        drop_first=True)"
   ]
  },
  {
   "cell_type": "code",
   "execution_count": 27,
   "metadata": {},
   "outputs": [
    {
     "data": {
      "text/html": [
       "<div>\n",
       "<style scoped>\n",
       "    .dataframe tbody tr th:only-of-type {\n",
       "        vertical-align: middle;\n",
       "    }\n",
       "\n",
       "    .dataframe tbody tr th {\n",
       "        vertical-align: top;\n",
       "    }\n",
       "\n",
       "    .dataframe thead th {\n",
       "        text-align: right;\n",
       "    }\n",
       "</style>\n",
       "<table border=\"1\" class=\"dataframe\">\n",
       "  <thead>\n",
       "    <tr style=\"text-align: right;\">\n",
       "      <th></th>\n",
       "      <th>wife_age</th>\n",
       "      <th>num_child</th>\n",
       "      <th>contraceptive</th>\n",
       "      <th>age_bin_low</th>\n",
       "      <th>age_bin_high</th>\n",
       "      <th>median_marriage_age</th>\n",
       "      <th>est_years_married</th>\n",
       "      <th>kids_per_year</th>\n",
       "      <th>education_gap</th>\n",
       "      <th>contraceptive_use</th>\n",
       "      <th>...</th>\n",
       "      <th>wife_religion_1</th>\n",
       "      <th>wife_work_1</th>\n",
       "      <th>husband_occupation_2</th>\n",
       "      <th>husband_occupation_3</th>\n",
       "      <th>husband_occupation_4</th>\n",
       "      <th>standard_living_2</th>\n",
       "      <th>standard_living_3</th>\n",
       "      <th>media_exposure_1</th>\n",
       "      <th>education_gap_categorical_0</th>\n",
       "      <th>education_gap_categorical_1</th>\n",
       "    </tr>\n",
       "  </thead>\n",
       "  <tbody>\n",
       "    <tr>\n",
       "      <td>0</td>\n",
       "      <td>24</td>\n",
       "      <td>3</td>\n",
       "      <td>0</td>\n",
       "      <td>20</td>\n",
       "      <td>24</td>\n",
       "      <td>19.6</td>\n",
       "      <td>4.4</td>\n",
       "      <td>0.681818</td>\n",
       "      <td>1</td>\n",
       "      <td>0</td>\n",
       "      <td>...</td>\n",
       "      <td>1</td>\n",
       "      <td>1</td>\n",
       "      <td>1</td>\n",
       "      <td>0</td>\n",
       "      <td>0</td>\n",
       "      <td>1</td>\n",
       "      <td>0</td>\n",
       "      <td>0</td>\n",
       "      <td>0</td>\n",
       "      <td>1</td>\n",
       "    </tr>\n",
       "    <tr>\n",
       "      <td>1</td>\n",
       "      <td>21</td>\n",
       "      <td>1</td>\n",
       "      <td>0</td>\n",
       "      <td>20</td>\n",
       "      <td>24</td>\n",
       "      <td>19.6</td>\n",
       "      <td>1.4</td>\n",
       "      <td>0.714286</td>\n",
       "      <td>0</td>\n",
       "      <td>0</td>\n",
       "      <td>...</td>\n",
       "      <td>1</td>\n",
       "      <td>0</td>\n",
       "      <td>0</td>\n",
       "      <td>1</td>\n",
       "      <td>0</td>\n",
       "      <td>1</td>\n",
       "      <td>0</td>\n",
       "      <td>0</td>\n",
       "      <td>1</td>\n",
       "      <td>0</td>\n",
       "    </tr>\n",
       "    <tr>\n",
       "      <td>2</td>\n",
       "      <td>24</td>\n",
       "      <td>0</td>\n",
       "      <td>0</td>\n",
       "      <td>20</td>\n",
       "      <td>24</td>\n",
       "      <td>19.6</td>\n",
       "      <td>4.4</td>\n",
       "      <td>0.000000</td>\n",
       "      <td>1</td>\n",
       "      <td>0</td>\n",
       "      <td>...</td>\n",
       "      <td>1</td>\n",
       "      <td>0</td>\n",
       "      <td>0</td>\n",
       "      <td>1</td>\n",
       "      <td>0</td>\n",
       "      <td>0</td>\n",
       "      <td>0</td>\n",
       "      <td>0</td>\n",
       "      <td>0</td>\n",
       "      <td>1</td>\n",
       "    </tr>\n",
       "    <tr>\n",
       "      <td>3</td>\n",
       "      <td>24</td>\n",
       "      <td>0</td>\n",
       "      <td>0</td>\n",
       "      <td>20</td>\n",
       "      <td>24</td>\n",
       "      <td>19.6</td>\n",
       "      <td>4.4</td>\n",
       "      <td>0.000000</td>\n",
       "      <td>0</td>\n",
       "      <td>0</td>\n",
       "      <td>...</td>\n",
       "      <td>1</td>\n",
       "      <td>0</td>\n",
       "      <td>1</td>\n",
       "      <td>0</td>\n",
       "      <td>0</td>\n",
       "      <td>1</td>\n",
       "      <td>0</td>\n",
       "      <td>0</td>\n",
       "      <td>1</td>\n",
       "      <td>0</td>\n",
       "    </tr>\n",
       "    <tr>\n",
       "      <td>4</td>\n",
       "      <td>24</td>\n",
       "      <td>1</td>\n",
       "      <td>0</td>\n",
       "      <td>20</td>\n",
       "      <td>24</td>\n",
       "      <td>19.6</td>\n",
       "      <td>4.4</td>\n",
       "      <td>0.227273</td>\n",
       "      <td>1</td>\n",
       "      <td>0</td>\n",
       "      <td>...</td>\n",
       "      <td>1</td>\n",
       "      <td>1</td>\n",
       "      <td>0</td>\n",
       "      <td>1</td>\n",
       "      <td>0</td>\n",
       "      <td>1</td>\n",
       "      <td>0</td>\n",
       "      <td>0</td>\n",
       "      <td>0</td>\n",
       "      <td>1</td>\n",
       "    </tr>\n",
       "  </tbody>\n",
       "</table>\n",
       "<p>5 rows × 24 columns</p>\n",
       "</div>"
      ],
      "text/plain": [
       "   wife_age  num_child  contraceptive age_bin_low age_bin_high  \\\n",
       "0        24          3              0          20           24   \n",
       "1        21          1              0          20           24   \n",
       "2        24          0              0          20           24   \n",
       "3        24          0              0          20           24   \n",
       "4        24          1              0          20           24   \n",
       "\n",
       "   median_marriage_age  est_years_married  kids_per_year  education_gap  \\\n",
       "0                 19.6                4.4       0.681818              1   \n",
       "1                 19.6                1.4       0.714286              0   \n",
       "2                 19.6                4.4       0.000000              1   \n",
       "3                 19.6                4.4       0.000000              0   \n",
       "4                 19.6                4.4       0.227273              1   \n",
       "\n",
       "   contraceptive_use  ...  wife_religion_1  wife_work_1  husband_occupation_2  \\\n",
       "0                  0  ...                1            1                     1   \n",
       "1                  0  ...                1            0                     0   \n",
       "2                  0  ...                1            0                     0   \n",
       "3                  0  ...                1            0                     1   \n",
       "4                  0  ...                1            1                     0   \n",
       "\n",
       "   husband_occupation_3  husband_occupation_4  standard_living_2  \\\n",
       "0                     0                     0                  1   \n",
       "1                     1                     0                  1   \n",
       "2                     1                     0                  0   \n",
       "3                     0                     0                  1   \n",
       "4                     1                     0                  1   \n",
       "\n",
       "   standard_living_3  media_exposure_1  education_gap_categorical_0  \\\n",
       "0                  0                 0                            0   \n",
       "1                  0                 0                            1   \n",
       "2                  0                 0                            0   \n",
       "3                  0                 0                            1   \n",
       "4                  0                 0                            0   \n",
       "\n",
       "   education_gap_categorical_1  \n",
       "0                            1  \n",
       "1                            0  \n",
       "2                            1  \n",
       "3                            0  \n",
       "4                            1  \n",
       "\n",
       "[5 rows x 24 columns]"
      ]
     },
     "execution_count": 27,
     "metadata": {},
     "output_type": "execute_result"
    }
   ],
   "source": [
    "contra.head()"
   ]
  },
  {
   "cell_type": "code",
   "execution_count": 28,
   "metadata": {},
   "outputs": [
    {
     "data": {
      "text/plain": [
       "['wife_age',\n",
       " 'num_child',\n",
       " 'contraceptive',\n",
       " 'age_bin_low',\n",
       " 'age_bin_high',\n",
       " 'median_marriage_age',\n",
       " 'est_years_married',\n",
       " 'kids_per_year',\n",
       " 'education_gap',\n",
       " 'contraceptive_use',\n",
       " 'wife_education_1',\n",
       " 'husband_education_2',\n",
       " 'husband_education_3',\n",
       " 'husband_education_4',\n",
       " 'wife_religion_1',\n",
       " 'wife_work_1',\n",
       " 'husband_occupation_2',\n",
       " 'husband_occupation_3',\n",
       " 'husband_occupation_4',\n",
       " 'standard_living_2',\n",
       " 'standard_living_3',\n",
       " 'media_exposure_1',\n",
       " 'education_gap_categorical_0',\n",
       " 'education_gap_categorical_1']"
      ]
     },
     "execution_count": 28,
     "metadata": {},
     "output_type": "execute_result"
    }
   ],
   "source": [
    "list(contra.columns)"
   ]
  },
  {
   "cell_type": "markdown",
   "metadata": {},
   "source": [
    "## 7. Scaling continuous variables.\n",
    "The remaining variables (aside from the response variables, `contraceptive` and `contraceptive_use`, and the helper variables, `median_marriage_age`, `age_bin_low,` and `age_bin_high`) will be standardized.\n",
    "\n",
    "- wife_age\n",
    "- num_child\n",
    "- kids_per_year\n",
    "- est_years_married"
   ]
  },
  {
   "cell_type": "code",
   "execution_count": 29,
   "metadata": {},
   "outputs": [],
   "source": [
    "continuous_vars = ['wife_age', 'num_child', 'kids_per_year', 'est_years_married']"
   ]
  },
  {
   "cell_type": "code",
   "execution_count": 30,
   "metadata": {},
   "outputs": [],
   "source": [
    "from sklearn.preprocessing import StandardScaler\n",
    "standardized_vars = pd.DataFrame(StandardScaler().fit_transform(contra[continuous_vars]), columns=continuous_vars)"
   ]
  },
  {
   "cell_type": "code",
   "execution_count": 31,
   "metadata": {},
   "outputs": [],
   "source": [
    "contra.drop(continuous_vars, axis=1, inplace=True)"
   ]
  },
  {
   "cell_type": "code",
   "execution_count": 32,
   "metadata": {},
   "outputs": [],
   "source": [
    "contra = contra.join(standardized_vars)"
   ]
  },
  {
   "cell_type": "markdown",
   "metadata": {},
   "source": [
    "## Split Train and Test"
   ]
  },
  {
   "cell_type": "code",
   "execution_count": 33,
   "metadata": {},
   "outputs": [],
   "source": [
    "contra_train, contra_test = train_test_split(contra, test_size=0.25, random_state=100)\n",
    "contra_train_untransf, contra_test_untransf = train_test_split(contra_untransf, test_size=0.25, random_state=100)"
   ]
  },
  {
   "cell_type": "markdown",
   "metadata": {},
   "source": [
    "## Save"
   ]
  },
  {
   "cell_type": "code",
   "execution_count": 34,
   "metadata": {},
   "outputs": [
    {
     "data": {
      "text/plain": [
       "[(1409, 24), (1056, 24), (353, 24)]"
      ]
     },
     "execution_count": 34,
     "metadata": {},
     "output_type": "execute_result"
    }
   ],
   "source": [
    "[contra.shape, contra_train.shape, contra_test.shape]"
   ]
  },
  {
   "cell_type": "code",
   "execution_count": 35,
   "metadata": {},
   "outputs": [],
   "source": [
    "contra.to_csv('../../1-data/contra.csv', index=False)\n",
    "contra_train.to_csv('../../1-data/train.csv', index=False)\n",
    "contra_test.to_csv('../../1-data/test.csv', index=False)\n",
    "\n",
    "contra_untransf.to_csv('../../1-data/contra-untransf.csv', index=False)\n",
    "contra_train_untransf.to_csv('../../1-data/train-untransf.csv', index=False)\n",
    "contra_test_untransf.to_csv('../../1-data/test-untrasf.csv', index=False)"
   ]
  }
 ],
 "metadata": {
  "kernelspec": {
   "display_name": "Python 3",
   "language": "python",
   "name": "python3"
  },
  "language_info": {
   "codemirror_mode": {
    "name": "ipython",
    "version": 3
   },
   "file_extension": ".py",
   "mimetype": "text/x-python",
   "name": "python",
   "nbconvert_exporter": "python",
   "pygments_lexer": "ipython3",
   "version": "3.7.4"
  }
 },
 "nbformat": 4,
 "nbformat_minor": 2
}
